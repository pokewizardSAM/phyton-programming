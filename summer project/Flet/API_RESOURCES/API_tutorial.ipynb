{
  "cells": [
    {
      "cell_type": "code",
      "execution_count": 1,
      "metadata": {
        "id": "t9zN1F8fQGWq"
      },
      "outputs": [],
      "source": [
        "%matplotlib inline"
      ]
    },
    {
      "cell_type": "code",
      "execution_count": 2,
      "metadata": {
        "colab": {
          "base_uri": "https://localhost:8080/"
        },
        "id": "EuLt6HxEQGWs",
        "outputId": "12bbaab1-c02b-4b75-89df-3b9f3b1696bd"
      },
      "outputs": [
        {
          "name": "stderr",
          "output_type": "stream",
          "text": [
            "fatal: destination path 'im-tutorials' already exists and is not an empty directory.\n"
          ]
        }
      ],
      "source": [
        "# Run this if you are using google colab (Download im_tutorial package)\n",
        "!git clone -b 3-ysi-tutorial https://github.com/nestauk/im-tutorials.git"
      ]
    },
    {
      "cell_type": "code",
      "execution_count": 4,
      "metadata": {
        "colab": {
          "base_uri": "https://localhost:8080/"
        },
        "id": "2d4_Q0e5QGWt",
        "outputId": "e1d20300-8638-411a-cd55-fd7d045f24e3"
      },
      "outputs": [
        {
          "name": "stdout",
          "output_type": "stream",
          "text": [
            "Requirement already satisfied: ratelim in c:\\users\\maste\\appdata\\local\\programs\\python\\python311\\lib\\site-packages (0.1.6)Note: you may need to restart the kernel to use updated packages.\n",
            "\n",
            "Requirement already satisfied: pandas in c:\\users\\maste\\appdata\\local\\programs\\python\\python311\\lib\\site-packages (1.5.2)\n",
            "Requirement already satisfied: tenacity in c:\\users\\maste\\appdata\\local\\programs\\python\\python311\\lib\\site-packages (8.2.2)\n",
            "Requirement already satisfied: decorator in c:\\users\\maste\\appdata\\roaming\\python\\python311\\site-packages (from ratelim) (5.1.1)\n",
            "Requirement already satisfied: python-dateutil>=2.8.1 in c:\\users\\maste\\appdata\\local\\programs\\python\\python311\\lib\\site-packages (from pandas) (2.8.2)\n",
            "Requirement already satisfied: pytz>=2020.1 in c:\\users\\maste\\appdata\\local\\programs\\python\\python311\\lib\\site-packages (from pandas) (2022.6)\n",
            "Requirement already satisfied: numpy>=1.21.0 in c:\\users\\maste\\appdata\\local\\programs\\python\\python311\\lib\\site-packages (from pandas) (1.24.2)\n",
            "Requirement already satisfied: six>=1.5 in c:\\users\\maste\\appdata\\local\\programs\\python\\python311\\lib\\site-packages (from python-dateutil>=2.8.1->pandas) (1.16.0)\n"
          ]
        }
      ],
      "source": [
        "# install other packages we need\n",
        "%pip install ratelim pandas tenacity"
      ]
    },
    {
      "cell_type": "markdown",
      "metadata": {
        "id": "WFhdGai9QGWu"
      },
      "source": [
        "# Introduction to requests and API's"
      ]
    },
    {
      "cell_type": "markdown",
      "metadata": {
        "id": "s9uzbnpDQGWw"
      },
      "source": [
        "## What you will be able to do after the tutorial\n",
        "\n",
        "- Understand what a (RESTful) API is\n",
        "- Understand what a HTTP request is\n",
        "- Use Python to make requests to an API\n",
        "- Use Python to work with JSON data\n",
        "- Use Python to read JSON data into a Dataframe and plot it\n",
        "- Understand how to overcome some real-world complexities when using API's\n",
        "      \n",
        "      "
      ]
    },
    {
      "cell_type": "markdown",
      "metadata": {
        "id": "_T6uXWoAQGWw"
      },
      "source": [
        "## Prerequisites\n",
        "\n",
        "Before we get started with using API's in python we need to know a little more first."
      ]
    },
    {
      "cell_type": "markdown",
      "metadata": {
        "id": "jLB78f_6QGWx"
      },
      "source": [
        "### APIs : What and why\n",
        "    \n",
        "An API (Application Programming interface) is a way for two different applications to communicate. Whilst the term applies to any two programs we are using it to refer to the API of a web service that provides data.\n",
        "\n",
        "To retrieve data from an API, a request to a remote web server is made.\n",
        "\n",
        "For example, if you want to build an application which plots stock prices, you would use the API of something like google finance to request the current stock prices.\n",
        "\n",
        "APIs are useful where:\n",
        "* Data is changing quickly, e.g. stock prices\n",
        "* The whole dataset is not required, e.g. the tweets of one user\n",
        "* Repeated computation is involved, e.g. Spotify API that tells you the genre of a piece of music\n",
        "\n",
        "#### REST\n",
        "\n",
        "Most API's you come across will be RESTful, i.e. they provide a REST (REpresentational State Transfer) interface.\n",
        "\n",
        "REST uses standard HTTP commands which means that getting data from an API is similar to accessing a webpage.\n",
        "\n",
        "For example, When you type `www.duckduckgo.com` in your browser, your browser is asking the `www.duckduckgo.com` server for a webpage by making a `GET` HTTP (Hypertext Transfer Protocol) request. Making a `GET` request to a RESTful API instead retrieves data (rather than a webpage).\n",
        "\n",
        "Similarly, while your browser uses `POST` to submit the contents of a form, REST APIs use `POST` to update data.\n",
        "\n",
        "REST APIs also uses other HTTP commmands such as `PUT` - for creating data - and `DELETE` - for removing data.\n",
        "\n",
        "HTTP is a text-based protocol (the response is always text) and could return a response in any format - this is typically found in the API documentation - though data is more often than not returned in JSON format.\n",
        "\n",
        "As they are used to retrieve data `GET` requests are the most commonly used type of request, therefore we will restrict ourselves to `GET` in this tutorial.\n",
        "\n",
        "#### JSON\n",
        "\n",
        "JSON (JavaScript Object Notation) is a format for sending data, that is meant to be human readable and easy to parse (It was derived from JavaScript but is language-independent).\n",
        "\n",
        "It uses attribute-value pairs (e.g. python dictionaries `{\"name\": \"Pizza\", \"foodRanking\": 1}`) and array data-types (e.g. python lists `[1, 2, 3]`)\n",
        "\n",
        "Example JSON representation :\n",
        "```\n",
        "{\n",
        "  \"firstName\": \"Donald\",\n",
        "  \"lastName\": \"Trump\",\n",
        "  \"age\": 73,\n",
        "  \"isAlive\": true,\n",
        "  \"color\": \"orange\",\n",
        "  \"addresses\": [\n",
        "      {\n",
        "          \"streetAddress\": \"1600 Pennsylvania Avenue NW\",\n",
        "          \"city\": \"Washington, D.C.\",\n",
        "          \"state\": \"null\",\n",
        "          \"postalCode\": \"20500\",\n",
        "          \"country\": \"US\"\n",
        "      },\n",
        "      {\n",
        "          \"streetAddress\": \"721 Fifth Avenue\",\n",
        "          \"city\": \"NYC\",\n",
        "          \"state\": \"NY\",\n",
        "          \"postalCode\": \"10022\",\n",
        "          \"country\": \"US\"\n",
        "      }\n",
        "  ],\n",
        "}\n",
        "```\n",
        "\n",
        "\n",
        "#### Status codes\n",
        "\n",
        "So we've sent off some mystery `GET` request but how do we know the request was successful?\n",
        "\n",
        "Servers issue numeric [status codes](https://developer.mozilla.org/en-US/docs/Web/HTTP/Status) in response to HTTP requests that indicate whether a request has been successfully completed.\n",
        "\n",
        "Some common ones relating to `GET` requests are:\n",
        "* `200` - Success\n",
        "* `300` - The API is redirecting to a different endpoint\n",
        "* `400` - Bad request\n",
        "* `401` - Not authenticated\n",
        "* `403` - Forbidden\n",
        "* `404` - Not found\n",
        "* `429` - Too many requests"
      ]
    },
    {
      "cell_type": "markdown",
      "metadata": {
        "id": "Tv43GWd-QGWy"
      },
      "source": [
        "### Pandas - the absolute basics\n",
        "\n",
        "We will be using Pandas (a contraction of 'panel' and 'data'). Pandas is a python library for doing practical, real world data analysis.\n",
        "\n",
        "Being comfortable with using pandas is a tutorial (or set of tutorials) alone$^{*}$, so don't worry if you're unfamiliar, but we will pick up the basics.\n",
        "\n",
        "\\* *(See the resources section at the end of this tutorial for more resources on pandas)*\n",
        "\n",
        "The main data-structure in pandas is the dataframe, it stores rows of observations over columns of variables. Lets see how it works..."
      ]
    },
    {
      "cell_type": "markdown",
      "metadata": {
        "id": "hAN0JAS9QGWz"
      },
      "source": [
        "#### Construct a DataFrame"
      ]
    },
    {
      "cell_type": "code",
      "execution_count": 2,
      "metadata": {
        "id": "DoXESlagQGWz",
        "outputId": "29929c14-b5a0-4000-aa18-42581fe9ec82"
      },
      "outputs": [
        {
          "data": {
            "text/html": [
              "<div>\n",
              "<style scoped>\n",
              "    .dataframe tbody tr th:only-of-type {\n",
              "        vertical-align: middle;\n",
              "    }\n",
              "\n",
              "    .dataframe tbody tr th {\n",
              "        vertical-align: top;\n",
              "    }\n",
              "\n",
              "    .dataframe thead th {\n",
              "        text-align: right;\n",
              "    }\n",
              "</style>\n",
              "<table border=\"1\" class=\"dataframe\">\n",
              "  <thead>\n",
              "    <tr style=\"text-align: right;\">\n",
              "      <th></th>\n",
              "      <th>sepal_length</th>\n",
              "      <th>sepal_width</th>\n",
              "      <th>petal_length</th>\n",
              "      <th>petal_width</th>\n",
              "      <th>species</th>\n",
              "    </tr>\n",
              "  </thead>\n",
              "  <tbody>\n",
              "    <tr>\n",
              "      <th>0</th>\n",
              "      <td>69</td>\n",
              "      <td>3.2</td>\n",
              "      <td>5.7</td>\n",
              "      <td>2.3</td>\n",
              "      <td>virginica</td>\n",
              "    </tr>\n",
              "    <tr>\n",
              "      <th>1</th>\n",
              "      <td>69</td>\n",
              "      <td>3.1</td>\n",
              "      <td>5.1</td>\n",
              "      <td>2.3</td>\n",
              "      <td>virginica</td>\n",
              "    </tr>\n",
              "    <tr>\n",
              "      <th>2</th>\n",
              "      <td>69</td>\n",
              "      <td>3.4</td>\n",
              "      <td>1.9</td>\n",
              "      <td>0.2</td>\n",
              "      <td>setosa</td>\n",
              "    </tr>\n",
              "    <tr>\n",
              "      <th>3</th>\n",
              "      <td>69</td>\n",
              "      <td>3.0</td>\n",
              "      <td>4.5</td>\n",
              "      <td>1.5</td>\n",
              "      <td>versicolor</td>\n",
              "    </tr>\n",
              "    <tr>\n",
              "      <th>4</th>\n",
              "      <td>69</td>\n",
              "      <td>3.6</td>\n",
              "      <td>1.0</td>\n",
              "      <td>0.2</td>\n",
              "      <td>setosa</td>\n",
              "    </tr>\n",
              "  </tbody>\n",
              "</table>\n",
              "</div>"
            ],
            "text/plain": [
              "   sepal_length  sepal_width  petal_length  petal_width     species\n",
              "0            69          3.2           5.7          2.3   virginica\n",
              "1            69          3.1           5.1          2.3   virginica\n",
              "2            69          3.4           1.9          0.2      setosa\n",
              "3            69          3.0           4.5          1.5  versicolor\n",
              "4            69          3.6           1.0          0.2      setosa"
            ]
          },
          "execution_count": 2,
          "metadata": {},
          "output_type": "execute_result"
        }
      ],
      "source": [
        "import pandas as pd  # Import the package\n",
        "\n",
        "# Some input data - a small sample of the iris dataset\n",
        "data = {\n",
        "    'sepal_length': [69, 69, 69, 69, 69],\n",
        "    'sepal_width': [3.2, 3.1, 3.4, 3.0, 3.6],\n",
        "    'petal_length': [5.7, 5.1, 1.9, 4.5, 1.0],\n",
        "    'petal_width': [2.3, 2.3, 0.2, 1.5, 0.2],\n",
        "    'species': ['virginica', 'virginica', 'setosa', 'versicolor', 'setosa']\n",
        "}\n",
        "\n",
        "df = pd.DataFrame(data)\n",
        "\n",
        "df # Typing a variable at the end of a cell will print it out"
      ]
    },
    {
      "cell_type": "markdown",
      "metadata": {
        "id": "RDCMrjvqQGW0"
      },
      "source": [
        "#### Indexes"
      ]
    },
    {
      "cell_type": "code",
      "execution_count": 4,
      "metadata": {
        "id": "m4tAK8vrQGW0",
        "outputId": "f041be93-4168-4e77-fda0-39215401e996"
      },
      "outputs": [
        {
          "data": {
            "text/plain": [
              "RangeIndex(start=0, stop=5, step=1)"
            ]
          },
          "execution_count": 4,
          "metadata": {},
          "output_type": "execute_result"
        }
      ],
      "source": [
        "df.index  # Access the index"
      ]
    },
    {
      "cell_type": "code",
      "execution_count": 9,
      "metadata": {
        "id": "qefzuR78QGW0",
        "outputId": "5bf0b110-7bf9-4fa0-ffaa-4f261b424cba"
      },
      "outputs": [
        {
          "name": "stdout",
          "output_type": "stream",
          "text": [
            "Int64Index([2, 3, 4, 5, 6], dtype='int64')\n"
          ]
        },
        {
          "data": {
            "text/html": [
              "<div>\n",
              "<style scoped>\n",
              "    .dataframe tbody tr th:only-of-type {\n",
              "        vertical-align: middle;\n",
              "    }\n",
              "\n",
              "    .dataframe tbody tr th {\n",
              "        vertical-align: top;\n",
              "    }\n",
              "\n",
              "    .dataframe thead th {\n",
              "        text-align: right;\n",
              "    }\n",
              "</style>\n",
              "<table border=\"1\" class=\"dataframe\">\n",
              "  <thead>\n",
              "    <tr style=\"text-align: right;\">\n",
              "      <th></th>\n",
              "      <th>sepal_length</th>\n",
              "      <th>sepal_width</th>\n",
              "      <th>petal_length</th>\n",
              "      <th>petal_width</th>\n",
              "      <th>species</th>\n",
              "    </tr>\n",
              "  </thead>\n",
              "  <tbody>\n",
              "    <tr>\n",
              "      <th>2</th>\n",
              "      <td>69</td>\n",
              "      <td>3.2</td>\n",
              "      <td>5.7</td>\n",
              "      <td>2.3</td>\n",
              "      <td>virginica</td>\n",
              "    </tr>\n",
              "    <tr>\n",
              "      <th>3</th>\n",
              "      <td>69</td>\n",
              "      <td>3.1</td>\n",
              "      <td>5.1</td>\n",
              "      <td>2.3</td>\n",
              "      <td>virginica</td>\n",
              "    </tr>\n",
              "    <tr>\n",
              "      <th>4</th>\n",
              "      <td>69</td>\n",
              "      <td>3.4</td>\n",
              "      <td>1.9</td>\n",
              "      <td>0.2</td>\n",
              "      <td>setosa</td>\n",
              "    </tr>\n",
              "    <tr>\n",
              "      <th>5</th>\n",
              "      <td>69</td>\n",
              "      <td>3.0</td>\n",
              "      <td>4.5</td>\n",
              "      <td>1.5</td>\n",
              "      <td>versicolor</td>\n",
              "    </tr>\n",
              "    <tr>\n",
              "      <th>6</th>\n",
              "      <td>69</td>\n",
              "      <td>3.6</td>\n",
              "      <td>1.0</td>\n",
              "      <td>0.2</td>\n",
              "      <td>setosa</td>\n",
              "    </tr>\n",
              "  </tbody>\n",
              "</table>\n",
              "</div>"
            ],
            "text/plain": [
              "   sepal_length  sepal_width  petal_length  petal_width     species\n",
              "2            69          3.2           5.7          2.3   virginica\n",
              "3            69          3.1           5.1          2.3   virginica\n",
              "4            69          3.4           1.9          0.2      setosa\n",
              "5            69          3.0           4.5          1.5  versicolor\n",
              "6            69          3.6           1.0          0.2      setosa"
            ]
          },
          "execution_count": 9,
          "metadata": {},
          "output_type": "execute_result"
        }
      ],
      "source": [
        "# Change the index\n",
        "df.index = [2, 3, 4, 5, 6]\n",
        "print(df.index)  # Access the index\n",
        "df"
      ]
    },
    {
      "cell_type": "code",
      "execution_count": 10,
      "metadata": {
        "id": "qmIcSRZQQGW0",
        "outputId": "2e51b9e7-a7fa-4bb4-88dd-97c9bc3a2716"
      },
      "outputs": [
        {
          "data": {
            "text/plain": [
              "Int64Index([1, 2, 3, 4, 5], dtype='int64')"
            ]
          },
          "execution_count": 10,
          "metadata": {},
          "output_type": "execute_result"
        }
      ],
      "source": [
        "df.index = df.index - 1  # Change the index\n",
        "df.index  # Access the index"
      ]
    },
    {
      "cell_type": "markdown",
      "metadata": {
        "id": "QkfSUVZjQGW1"
      },
      "source": [
        "#### COLUMNS"
      ]
    },
    {
      "cell_type": "code",
      "execution_count": 11,
      "metadata": {
        "id": "Ew2TRcsSQGW1",
        "outputId": "b6dcb75c-3990-4ccd-f557-09be197d10b0"
      },
      "outputs": [
        {
          "data": {
            "text/plain": [
              "Index(['sepal_length', 'sepal_width', 'petal_length', 'petal_width',\n",
              "       'species'],\n",
              "      dtype='object')"
            ]
          },
          "execution_count": 11,
          "metadata": {},
          "output_type": "execute_result"
        }
      ],
      "source": [
        "df.columns  # Access the columns"
      ]
    },
    {
      "cell_type": "code",
      "execution_count": 18,
      "metadata": {
        "id": "hK0vP3bzQGW1",
        "outputId": "9a40264c-6460-4c9e-d1a7-cfdb70e4c6db"
      },
      "outputs": [
        {
          "name": "stdout",
          "output_type": "stream",
          "text": [
            "Index(['sepal_length', 'sepal_width', 'petal_length', 'petal_width',\n",
            "       'SPECIES'],\n",
            "      dtype='object')\n"
          ]
        },
        {
          "data": {
            "text/html": [
              "<div>\n",
              "<style scoped>\n",
              "    .dataframe tbody tr th:only-of-type {\n",
              "        vertical-align: middle;\n",
              "    }\n",
              "\n",
              "    .dataframe tbody tr th {\n",
              "        vertical-align: top;\n",
              "    }\n",
              "\n",
              "    .dataframe thead th {\n",
              "        text-align: right;\n",
              "    }\n",
              "</style>\n",
              "<table border=\"1\" class=\"dataframe\">\n",
              "  <thead>\n",
              "    <tr style=\"text-align: right;\">\n",
              "      <th></th>\n",
              "      <th>sepal_length</th>\n",
              "      <th>sepal_width</th>\n",
              "      <th>petal_length</th>\n",
              "      <th>petal_width</th>\n",
              "      <th>SPECIES</th>\n",
              "    </tr>\n",
              "  </thead>\n",
              "  <tbody>\n",
              "    <tr>\n",
              "      <th>1</th>\n",
              "      <td>69</td>\n",
              "      <td>3.2</td>\n",
              "      <td>5.7</td>\n",
              "      <td>2.3</td>\n",
              "      <td>virginica</td>\n",
              "    </tr>\n",
              "    <tr>\n",
              "      <th>2</th>\n",
              "      <td>69</td>\n",
              "      <td>3.1</td>\n",
              "      <td>5.1</td>\n",
              "      <td>2.3</td>\n",
              "      <td>virginica</td>\n",
              "    </tr>\n",
              "    <tr>\n",
              "      <th>3</th>\n",
              "      <td>69</td>\n",
              "      <td>3.4</td>\n",
              "      <td>1.9</td>\n",
              "      <td>0.2</td>\n",
              "      <td>setosa</td>\n",
              "    </tr>\n",
              "    <tr>\n",
              "      <th>4</th>\n",
              "      <td>69</td>\n",
              "      <td>3.0</td>\n",
              "      <td>4.5</td>\n",
              "      <td>1.5</td>\n",
              "      <td>versicolor</td>\n",
              "    </tr>\n",
              "    <tr>\n",
              "      <th>5</th>\n",
              "      <td>69</td>\n",
              "      <td>3.6</td>\n",
              "      <td>1.0</td>\n",
              "      <td>0.2</td>\n",
              "      <td>setosa</td>\n",
              "    </tr>\n",
              "  </tbody>\n",
              "</table>\n",
              "</div>"
            ],
            "text/plain": [
              "   sepal_length  sepal_width  petal_length  petal_width     SPECIES\n",
              "1            69          3.2           5.7          2.3   virginica\n",
              "2            69          3.1           5.1          2.3   virginica\n",
              "3            69          3.4           1.9          0.2      setosa\n",
              "4            69          3.0           4.5          1.5  versicolor\n",
              "5            69          3.6           1.0          0.2      setosa"
            ]
          },
          "execution_count": 18,
          "metadata": {},
          "output_type": "execute_result"
        }
      ],
      "source": [
        "# Change the columns\n",
        "df.columns = ['sepal_length', 'sepal_width',\n",
        "              'petal_length', 'petal_width', 'SPECIES']\n",
        "print(df.columns)\n",
        "df"
      ]
    },
    {
      "cell_type": "code",
      "execution_count": 20,
      "metadata": {
        "id": "cgRfjxs5QGW1",
        "outputId": "f95437d9-81cf-4a6d-9178-720367ac1e2d"
      },
      "outputs": [
        {
          "data": {
            "text/plain": [
              "Index(['sepal_length', 'sepal_width', 'petal_length', 'petal_width',\n",
              "       'species'],\n",
              "      dtype='object')"
            ]
          },
          "execution_count": 20,
          "metadata": {},
          "output_type": "execute_result"
        }
      ],
      "source": [
        "# Apply the `str.lower` function to every column\n",
        "df.columns = map(str.lower, df.columns)\n",
        "df.columns  # Access the columns"
      ]
    },
    {
      "cell_type": "markdown",
      "metadata": {
        "id": "Z_TL8PiQQGW2"
      },
      "source": [
        "#### Accessing columns"
      ]
    },
    {
      "cell_type": "code",
      "execution_count": 21,
      "metadata": {
        "id": "pDOg3M-zQGW2",
        "outputId": "caca530b-87df-4654-d1e5-4712b1c862ff"
      },
      "outputs": [
        {
          "data": {
            "text/plain": [
              "1    69\n",
              "2    69\n",
              "3    69\n",
              "4    69\n",
              "5    69\n",
              "Name: sepal_length, dtype: int64"
            ]
          },
          "execution_count": 21,
          "metadata": {},
          "output_type": "execute_result"
        }
      ],
      "source": [
        "# Access one column\n",
        "df.loc[:, 'sepal_length']\n",
        "\n",
        "# df.loc[[rows] : [columns]]"
      ]
    },
    {
      "cell_type": "code",
      "execution_count": 22,
      "metadata": {
        "id": "iqYRE4dRQGW2",
        "outputId": "28959906-e148-480a-9b0b-7eb042b4f695"
      },
      "outputs": [
        {
          "data": {
            "text/plain": [
              "1    69\n",
              "2    69\n",
              "3    69\n",
              "4    69\n",
              "5    69\n",
              "Name: sepal_length, dtype: int64"
            ]
          },
          "execution_count": 22,
          "metadata": {},
          "output_type": "execute_result"
        }
      ],
      "source": [
        "# Access one column (short-hand)\n",
        "df['sepal_length']"
      ]
    },
    {
      "cell_type": "code",
      "execution_count": 24,
      "metadata": {
        "id": "UZtoAoWkQGW2",
        "outputId": "4c32cafa-4ed0-4435-a8d0-bdf4b68e5aed"
      },
      "outputs": [
        {
          "data": {
            "text/html": [
              "<div>\n",
              "<style scoped>\n",
              "    .dataframe tbody tr th:only-of-type {\n",
              "        vertical-align: middle;\n",
              "    }\n",
              "\n",
              "    .dataframe tbody tr th {\n",
              "        vertical-align: top;\n",
              "    }\n",
              "\n",
              "    .dataframe thead th {\n",
              "        text-align: right;\n",
              "    }\n",
              "</style>\n",
              "<table border=\"1\" class=\"dataframe\">\n",
              "  <thead>\n",
              "    <tr style=\"text-align: right;\">\n",
              "      <th></th>\n",
              "      <th>sepal_length</th>\n",
              "      <th>sepal_width</th>\n",
              "      <th>species</th>\n",
              "    </tr>\n",
              "  </thead>\n",
              "  <tbody>\n",
              "    <tr>\n",
              "      <th>1</th>\n",
              "      <td>69</td>\n",
              "      <td>3.2</td>\n",
              "      <td>virginica</td>\n",
              "    </tr>\n",
              "    <tr>\n",
              "      <th>2</th>\n",
              "      <td>69</td>\n",
              "      <td>3.1</td>\n",
              "      <td>virginica</td>\n",
              "    </tr>\n",
              "    <tr>\n",
              "      <th>3</th>\n",
              "      <td>69</td>\n",
              "      <td>3.4</td>\n",
              "      <td>setosa</td>\n",
              "    </tr>\n",
              "    <tr>\n",
              "      <th>4</th>\n",
              "      <td>69</td>\n",
              "      <td>3.0</td>\n",
              "      <td>versicolor</td>\n",
              "    </tr>\n",
              "    <tr>\n",
              "      <th>5</th>\n",
              "      <td>69</td>\n",
              "      <td>3.6</td>\n",
              "      <td>setosa</td>\n",
              "    </tr>\n",
              "  </tbody>\n",
              "</table>\n",
              "</div>"
            ],
            "text/plain": [
              "   sepal_length  sepal_width     species\n",
              "1            69          3.2   virginica\n",
              "2            69          3.1   virginica\n",
              "3            69          3.4      setosa\n",
              "4            69          3.0  versicolor\n",
              "5            69          3.6      setosa"
            ]
          },
          "execution_count": 24,
          "metadata": {},
          "output_type": "execute_result"
        }
      ],
      "source": [
        "# Access two columns\n",
        "df.loc[:, ['sepal_length', 'sepal_width', 'species']]"
      ]
    },
    {
      "cell_type": "code",
      "execution_count": 25,
      "metadata": {
        "id": "oUp-XRLTQGW2",
        "outputId": "bf5f59a0-80f8-4ad0-d070-db2a8674f60b"
      },
      "outputs": [
        {
          "data": {
            "text/html": [
              "<div>\n",
              "<style scoped>\n",
              "    .dataframe tbody tr th:only-of-type {\n",
              "        vertical-align: middle;\n",
              "    }\n",
              "\n",
              "    .dataframe tbody tr th {\n",
              "        vertical-align: top;\n",
              "    }\n",
              "\n",
              "    .dataframe thead th {\n",
              "        text-align: right;\n",
              "    }\n",
              "</style>\n",
              "<table border=\"1\" class=\"dataframe\">\n",
              "  <thead>\n",
              "    <tr style=\"text-align: right;\">\n",
              "      <th></th>\n",
              "      <th>sepal_length</th>\n",
              "      <th>sepal_width</th>\n",
              "      <th>species</th>\n",
              "    </tr>\n",
              "  </thead>\n",
              "  <tbody>\n",
              "    <tr>\n",
              "      <th>1</th>\n",
              "      <td>69</td>\n",
              "      <td>3.2</td>\n",
              "      <td>virginica</td>\n",
              "    </tr>\n",
              "    <tr>\n",
              "      <th>2</th>\n",
              "      <td>69</td>\n",
              "      <td>3.1</td>\n",
              "      <td>virginica</td>\n",
              "    </tr>\n",
              "    <tr>\n",
              "      <th>3</th>\n",
              "      <td>69</td>\n",
              "      <td>3.4</td>\n",
              "      <td>setosa</td>\n",
              "    </tr>\n",
              "    <tr>\n",
              "      <th>4</th>\n",
              "      <td>69</td>\n",
              "      <td>3.0</td>\n",
              "      <td>versicolor</td>\n",
              "    </tr>\n",
              "    <tr>\n",
              "      <th>5</th>\n",
              "      <td>69</td>\n",
              "      <td>3.6</td>\n",
              "      <td>setosa</td>\n",
              "    </tr>\n",
              "  </tbody>\n",
              "</table>\n",
              "</div>"
            ],
            "text/plain": [
              "   sepal_length  sepal_width     species\n",
              "1            69          3.2   virginica\n",
              "2            69          3.1   virginica\n",
              "3            69          3.4      setosa\n",
              "4            69          3.0  versicolor\n",
              "5            69          3.6      setosa"
            ]
          },
          "execution_count": 25,
          "metadata": {},
          "output_type": "execute_result"
        }
      ],
      "source": [
        "# Access two columns (short-hand)\n",
        "df[['sepal_length', 'sepal_width', 'species']]"
      ]
    },
    {
      "cell_type": "markdown",
      "metadata": {
        "id": "PLTKDxH4QGW3"
      },
      "source": [
        "#### Accessing rows"
      ]
    },
    {
      "cell_type": "code",
      "execution_count": 28,
      "metadata": {
        "id": "IcULFF_CQGW3",
        "outputId": "5efc6336-04f5-4044-ca29-dd5edff594e8"
      },
      "outputs": [
        {
          "data": {
            "text/plain": [
              "sepal_length        69\n",
              "sepal_width        3.4\n",
              "petal_length       1.9\n",
              "petal_width        0.2\n",
              "species         setosa\n",
              "Name: 3, dtype: object"
            ]
          },
          "execution_count": 28,
          "metadata": {},
          "output_type": "execute_result"
        }
      ],
      "source": [
        "# Access one row\n",
        "df.loc[3, :]\n",
        "# df.loc[[rows] : [columns]]\n"
      ]
    },
    {
      "cell_type": "code",
      "execution_count": 31,
      "metadata": {
        "id": "B2dnprqFQGW3",
        "outputId": "801c0c3d-5a0c-46e4-a30a-84327b12a791"
      },
      "outputs": [
        {
          "data": {
            "text/html": [
              "<div>\n",
              "<style scoped>\n",
              "    .dataframe tbody tr th:only-of-type {\n",
              "        vertical-align: middle;\n",
              "    }\n",
              "\n",
              "    .dataframe tbody tr th {\n",
              "        vertical-align: top;\n",
              "    }\n",
              "\n",
              "    .dataframe thead th {\n",
              "        text-align: right;\n",
              "    }\n",
              "</style>\n",
              "<table border=\"1\" class=\"dataframe\">\n",
              "  <thead>\n",
              "    <tr style=\"text-align: right;\">\n",
              "      <th></th>\n",
              "      <th>sepal_length</th>\n",
              "      <th>sepal_width</th>\n",
              "      <th>petal_length</th>\n",
              "      <th>petal_width</th>\n",
              "      <th>species</th>\n",
              "    </tr>\n",
              "  </thead>\n",
              "  <tbody>\n",
              "    <tr>\n",
              "      <th>3</th>\n",
              "      <td>69</td>\n",
              "      <td>3.4</td>\n",
              "      <td>1.9</td>\n",
              "      <td>0.2</td>\n",
              "      <td>setosa</td>\n",
              "    </tr>\n",
              "    <tr>\n",
              "      <th>5</th>\n",
              "      <td>69</td>\n",
              "      <td>3.6</td>\n",
              "      <td>1.0</td>\n",
              "      <td>0.2</td>\n",
              "      <td>setosa</td>\n",
              "    </tr>\n",
              "  </tbody>\n",
              "</table>\n",
              "</div>"
            ],
            "text/plain": [
              "   sepal_length  sepal_width  petal_length  petal_width species\n",
              "3            69          3.4           1.9          0.2  setosa\n",
              "5            69          3.6           1.0          0.2  setosa"
            ]
          },
          "execution_count": 31,
          "metadata": {},
          "output_type": "execute_result"
        }
      ],
      "source": [
        "# Access two rows\n",
        "df.loc[[3, 5], :]\n",
        "# Note: `0` is not an index so it's value's are `NaN` (not a number), i.e. missing"
      ]
    },
    {
      "cell_type": "code",
      "execution_count": 32,
      "metadata": {
        "id": "MCjYvwtUQGW3",
        "outputId": "1559e165-7d3c-4ab9-c7f0-56c296eec798"
      },
      "outputs": [
        {
          "data": {
            "text/html": [
              "<div>\n",
              "<style scoped>\n",
              "    .dataframe tbody tr th:only-of-type {\n",
              "        vertical-align: middle;\n",
              "    }\n",
              "\n",
              "    .dataframe tbody tr th {\n",
              "        vertical-align: top;\n",
              "    }\n",
              "\n",
              "    .dataframe thead th {\n",
              "        text-align: right;\n",
              "    }\n",
              "</style>\n",
              "<table border=\"1\" class=\"dataframe\">\n",
              "  <thead>\n",
              "    <tr style=\"text-align: right;\">\n",
              "      <th></th>\n",
              "      <th>sepal_length</th>\n",
              "      <th>sepal_width</th>\n",
              "      <th>petal_length</th>\n",
              "      <th>petal_width</th>\n",
              "      <th>species</th>\n",
              "    </tr>\n",
              "  </thead>\n",
              "  <tbody>\n",
              "    <tr>\n",
              "      <th>2</th>\n",
              "      <td>69</td>\n",
              "      <td>3.1</td>\n",
              "      <td>5.1</td>\n",
              "      <td>2.3</td>\n",
              "      <td>virginica</td>\n",
              "    </tr>\n",
              "    <tr>\n",
              "      <th>3</th>\n",
              "      <td>69</td>\n",
              "      <td>3.4</td>\n",
              "      <td>1.9</td>\n",
              "      <td>0.2</td>\n",
              "      <td>setosa</td>\n",
              "    </tr>\n",
              "    <tr>\n",
              "      <th>4</th>\n",
              "      <td>69</td>\n",
              "      <td>3.0</td>\n",
              "      <td>4.5</td>\n",
              "      <td>1.5</td>\n",
              "      <td>versicolor</td>\n",
              "    </tr>\n",
              "    <tr>\n",
              "      <th>5</th>\n",
              "      <td>69</td>\n",
              "      <td>3.6</td>\n",
              "      <td>1.0</td>\n",
              "      <td>0.2</td>\n",
              "      <td>setosa</td>\n",
              "    </tr>\n",
              "  </tbody>\n",
              "</table>\n",
              "</div>"
            ],
            "text/plain": [
              "   sepal_length  sepal_width  petal_length  petal_width     species\n",
              "2            69          3.1           5.1          2.3   virginica\n",
              "3            69          3.4           1.9          0.2      setosa\n",
              "4            69          3.0           4.5          1.5  versicolor\n",
              "5            69          3.6           1.0          0.2      setosa"
            ]
          },
          "execution_count": 32,
          "metadata": {},
          "output_type": "execute_result"
        }
      ],
      "source": [
        "# Access a range of rows\n",
        "df.loc[2:5, :]"
      ]
    },
    {
      "cell_type": "code",
      "execution_count": 33,
      "metadata": {
        "id": "FfLdtGpDQGW3",
        "outputId": "a5551c5c-5135-40e3-d661-f38c03eb8be2"
      },
      "outputs": [
        {
          "data": {
            "text/html": [
              "<div>\n",
              "<style scoped>\n",
              "    .dataframe tbody tr th:only-of-type {\n",
              "        vertical-align: middle;\n",
              "    }\n",
              "\n",
              "    .dataframe tbody tr th {\n",
              "        vertical-align: top;\n",
              "    }\n",
              "\n",
              "    .dataframe thead th {\n",
              "        text-align: right;\n",
              "    }\n",
              "</style>\n",
              "<table border=\"1\" class=\"dataframe\">\n",
              "  <thead>\n",
              "    <tr style=\"text-align: right;\">\n",
              "      <th></th>\n",
              "      <th>sepal_length</th>\n",
              "      <th>sepal_width</th>\n",
              "      <th>petal_length</th>\n",
              "      <th>petal_width</th>\n",
              "      <th>species</th>\n",
              "    </tr>\n",
              "  </thead>\n",
              "  <tbody>\n",
              "    <tr>\n",
              "      <th>1</th>\n",
              "      <td>69</td>\n",
              "      <td>3.2</td>\n",
              "      <td>5.7</td>\n",
              "      <td>2.3</td>\n",
              "      <td>virginica</td>\n",
              "    </tr>\n",
              "    <tr>\n",
              "      <th>2</th>\n",
              "      <td>69</td>\n",
              "      <td>3.1</td>\n",
              "      <td>5.1</td>\n",
              "      <td>2.3</td>\n",
              "      <td>virginica</td>\n",
              "    </tr>\n",
              "  </tbody>\n",
              "</table>\n",
              "</div>"
            ],
            "text/plain": [
              "   sepal_length  sepal_width  petal_length  petal_width    species\n",
              "1            69          3.2           5.7          2.3  virginica\n",
              "2            69          3.1           5.1          2.3  virginica"
            ]
          },
          "execution_count": 33,
          "metadata": {},
          "output_type": "execute_result"
        }
      ],
      "source": [
        "# Access rows by index location (number starting from zero)\n",
        "df.iloc[0:2, :]"
      ]
    },
    {
      "cell_type": "code",
      "execution_count": null,
      "metadata": {
        "id": "hYGfdvfiQGW3",
        "outputId": "e8aca986-93ef-4724-fa3c-7fe80187f86b"
      },
      "outputs": [
        {
          "data": {
            "text/html": [
              "<div>\n",
              "<style scoped>\n",
              "    .dataframe tbody tr th:only-of-type {\n",
              "        vertical-align: middle;\n",
              "    }\n",
              "\n",
              "    .dataframe tbody tr th {\n",
              "        vertical-align: top;\n",
              "    }\n",
              "\n",
              "    .dataframe thead th {\n",
              "        text-align: right;\n",
              "    }\n",
              "</style>\n",
              "<table border=\"1\" class=\"dataframe\">\n",
              "  <thead>\n",
              "    <tr style=\"text-align: right;\">\n",
              "      <th></th>\n",
              "      <th>sepal_length</th>\n",
              "      <th>sepal_width</th>\n",
              "      <th>petal_length</th>\n",
              "      <th>petal_width</th>\n",
              "      <th>species</th>\n",
              "    </tr>\n",
              "  </thead>\n",
              "  <tbody>\n",
              "    <tr>\n",
              "      <td>1</td>\n",
              "      <td>6.9</td>\n",
              "      <td>3.2</td>\n",
              "      <td>5.7</td>\n",
              "      <td>2.3</td>\n",
              "      <td>virginica</td>\n",
              "    </tr>\n",
              "    <tr>\n",
              "      <td>2</td>\n",
              "      <td>6.9</td>\n",
              "      <td>3.1</td>\n",
              "      <td>5.1</td>\n",
              "      <td>2.3</td>\n",
              "      <td>virginica</td>\n",
              "    </tr>\n",
              "    <tr>\n",
              "      <td>4</td>\n",
              "      <td>5.4</td>\n",
              "      <td>3.0</td>\n",
              "      <td>4.5</td>\n",
              "      <td>1.5</td>\n",
              "      <td>versicolor</td>\n",
              "    </tr>\n",
              "  </tbody>\n",
              "</table>\n",
              "</div>"
            ],
            "text/plain": [
              "   sepal_length  sepal_width  petal_length  petal_width     species\n",
              "1           6.9          3.2           5.7          2.3   virginica\n",
              "2           6.9          3.1           5.1          2.3   virginica\n",
              "4           5.4          3.0           4.5          1.5  versicolor"
            ]
          },
          "execution_count": 17,
          "metadata": {},
          "output_type": "execute_result"
        }
      ],
      "source": [
        "# Filter keeping only rows with `sepal_length` > 5\n",
        "df[df.sepal_length > 5]"
      ]
    },
    {
      "cell_type": "code",
      "execution_count": null,
      "metadata": {
        "id": "loPTmldSQGW3",
        "outputId": "c0ad402b-c956-4461-c5f8-fde1f650b00b"
      },
      "outputs": [
        {
          "data": {
            "text/html": [
              "<div>\n",
              "<style scoped>\n",
              "    .dataframe tbody tr th:only-of-type {\n",
              "        vertical-align: middle;\n",
              "    }\n",
              "\n",
              "    .dataframe tbody tr th {\n",
              "        vertical-align: top;\n",
              "    }\n",
              "\n",
              "    .dataframe thead th {\n",
              "        text-align: right;\n",
              "    }\n",
              "</style>\n",
              "<table border=\"1\" class=\"dataframe\">\n",
              "  <thead>\n",
              "    <tr style=\"text-align: right;\">\n",
              "      <th></th>\n",
              "      <th>sepal_length</th>\n",
              "      <th>sepal_width</th>\n",
              "      <th>petal_length</th>\n",
              "      <th>petal_width</th>\n",
              "      <th>species</th>\n",
              "    </tr>\n",
              "  </thead>\n",
              "  <tbody>\n",
              "    <tr>\n",
              "      <td>1</td>\n",
              "      <td>6.9</td>\n",
              "      <td>3.2</td>\n",
              "      <td>5.7</td>\n",
              "      <td>2.3</td>\n",
              "      <td>virginica</td>\n",
              "    </tr>\n",
              "    <tr>\n",
              "      <td>2</td>\n",
              "      <td>6.9</td>\n",
              "      <td>3.1</td>\n",
              "      <td>5.1</td>\n",
              "      <td>2.3</td>\n",
              "      <td>virginica</td>\n",
              "    </tr>\n",
              "    <tr>\n",
              "      <td>4</td>\n",
              "      <td>5.4</td>\n",
              "      <td>3.0</td>\n",
              "      <td>4.5</td>\n",
              "      <td>1.5</td>\n",
              "      <td>versicolor</td>\n",
              "    </tr>\n",
              "  </tbody>\n",
              "</table>\n",
              "</div>"
            ],
            "text/plain": [
              "   sepal_length  sepal_width  petal_length  petal_width     species\n",
              "1           6.9          3.2           5.7          2.3   virginica\n",
              "2           6.9          3.1           5.1          2.3   virginica\n",
              "4           5.4          3.0           4.5          1.5  versicolor"
            ]
          },
          "execution_count": 18,
          "metadata": {},
          "output_type": "execute_result"
        }
      ],
      "source": [
        "# Filter keeping only rows with `sepal_length` > 5 (alternative syntax)\n",
        "df.query(\"sepal_length > 5\")"
      ]
    },
    {
      "cell_type": "markdown",
      "metadata": {
        "id": "0qFVdNlEQGW4"
      },
      "source": [
        "#### Reading data from disk"
      ]
    },
    {
      "cell_type": "markdown",
      "metadata": {
        "id": "3YsV7XEQQGW4"
      },
      "source": [
        "Pandas can read files directly from a file (even excel files) and will automatically try and infer as much as it can about the structure of the data)\n",
        "\n",
        "``` python\n",
        "filename = 'Your_filename_here.json'\n",
        "df = pd.read_json(filename)\n",
        "\n",
        "filename = 'Your_filename_here.csv'\n",
        "df = pd.read_csv(filename)\n",
        "\n",
        "# Requires `xlrd` package to be installed\n",
        "filename = 'Your_filename_here.xlsx'\n",
        "df = pd.read_excel(filename)\n",
        "```"
      ]
    },
    {
      "cell_type": "code",
      "execution_count": null,
      "metadata": {
        "id": "bfPdZ5WpQGW4"
      },
      "outputs": [],
      "source": [
        "# You may need to manually tell pandas some things about your dataset\n",
        "# Lots of options detailed in the docs...\n",
        "pd.read_csv?"
      ]
    },
    {
      "cell_type": "markdown",
      "metadata": {
        "id": "-Zw5TTUXQGW4"
      },
      "source": [
        "#### Adding new columns"
      ]
    },
    {
      "cell_type": "code",
      "execution_count": null,
      "metadata": {
        "id": "7yUJYOqRQGW4",
        "outputId": "f58c5e38-f8f3-4cb6-83fc-149c3023bf89"
      },
      "outputs": [
        {
          "data": {
            "text/html": [
              "<div>\n",
              "<style scoped>\n",
              "    .dataframe tbody tr th:only-of-type {\n",
              "        vertical-align: middle;\n",
              "    }\n",
              "\n",
              "    .dataframe tbody tr th {\n",
              "        vertical-align: top;\n",
              "    }\n",
              "\n",
              "    .dataframe thead th {\n",
              "        text-align: right;\n",
              "    }\n",
              "</style>\n",
              "<table border=\"1\" class=\"dataframe\">\n",
              "  <thead>\n",
              "    <tr style=\"text-align: right;\">\n",
              "      <th></th>\n",
              "      <th>sepal_length</th>\n",
              "      <th>sepal_width</th>\n",
              "      <th>petal_length</th>\n",
              "      <th>petal_width</th>\n",
              "      <th>species</th>\n",
              "      <th>new_column</th>\n",
              "    </tr>\n",
              "  </thead>\n",
              "  <tbody>\n",
              "    <tr>\n",
              "      <td>1</td>\n",
              "      <td>6.9</td>\n",
              "      <td>3.2</td>\n",
              "      <td>5.7</td>\n",
              "      <td>2.3</td>\n",
              "      <td>virginica</td>\n",
              "      <td>1</td>\n",
              "    </tr>\n",
              "    <tr>\n",
              "      <td>2</td>\n",
              "      <td>6.9</td>\n",
              "      <td>3.1</td>\n",
              "      <td>5.1</td>\n",
              "      <td>2.3</td>\n",
              "      <td>virginica</td>\n",
              "      <td>1</td>\n",
              "    </tr>\n",
              "    <tr>\n",
              "      <td>3</td>\n",
              "      <td>4.8</td>\n",
              "      <td>3.4</td>\n",
              "      <td>1.9</td>\n",
              "      <td>0.2</td>\n",
              "      <td>setosa</td>\n",
              "      <td>1</td>\n",
              "    </tr>\n",
              "    <tr>\n",
              "      <td>4</td>\n",
              "      <td>5.4</td>\n",
              "      <td>3.0</td>\n",
              "      <td>4.5</td>\n",
              "      <td>1.5</td>\n",
              "      <td>versicolor</td>\n",
              "      <td>1</td>\n",
              "    </tr>\n",
              "    <tr>\n",
              "      <td>5</td>\n",
              "      <td>4.6</td>\n",
              "      <td>3.6</td>\n",
              "      <td>1.0</td>\n",
              "      <td>0.2</td>\n",
              "      <td>setosa</td>\n",
              "      <td>1</td>\n",
              "    </tr>\n",
              "  </tbody>\n",
              "</table>\n",
              "</div>"
            ],
            "text/plain": [
              "   sepal_length  sepal_width  petal_length  petal_width     species  \\\n",
              "1           6.9          3.2           5.7          2.3   virginica   \n",
              "2           6.9          3.1           5.1          2.3   virginica   \n",
              "3           4.8          3.4           1.9          0.2      setosa   \n",
              "4           5.4          3.0           4.5          1.5  versicolor   \n",
              "5           4.6          3.6           1.0          0.2      setosa   \n",
              "\n",
              "   new_column  \n",
              "1           1  \n",
              "2           1  \n",
              "3           1  \n",
              "4           1  \n",
              "5           1  "
            ]
          },
          "execution_count": 20,
          "metadata": {},
          "output_type": "execute_result"
        }
      ],
      "source": [
        "df['new_column'] = 1\n",
        "df"
      ]
    },
    {
      "cell_type": "code",
      "execution_count": null,
      "metadata": {
        "id": "HaLK1M0eQGW4",
        "outputId": "34ce128d-132a-471e-e519-889f7cb2596e"
      },
      "outputs": [
        {
          "data": {
            "text/html": [
              "<div>\n",
              "<style scoped>\n",
              "    .dataframe tbody tr th:only-of-type {\n",
              "        vertical-align: middle;\n",
              "    }\n",
              "\n",
              "    .dataframe tbody tr th {\n",
              "        vertical-align: top;\n",
              "    }\n",
              "\n",
              "    .dataframe thead th {\n",
              "        text-align: right;\n",
              "    }\n",
              "</style>\n",
              "<table border=\"1\" class=\"dataframe\">\n",
              "  <thead>\n",
              "    <tr style=\"text-align: right;\">\n",
              "      <th></th>\n",
              "      <th>sepal_length</th>\n",
              "      <th>sepal_width</th>\n",
              "      <th>petal_length</th>\n",
              "      <th>petal_width</th>\n",
              "      <th>species</th>\n",
              "      <th>new_column</th>\n",
              "    </tr>\n",
              "  </thead>\n",
              "  <tbody>\n",
              "    <tr>\n",
              "      <td>1</td>\n",
              "      <td>6.9</td>\n",
              "      <td>3.2</td>\n",
              "      <td>5.7</td>\n",
              "      <td>2.3</td>\n",
              "      <td>virginica</td>\n",
              "      <td>1</td>\n",
              "    </tr>\n",
              "    <tr>\n",
              "      <td>2</td>\n",
              "      <td>6.9</td>\n",
              "      <td>3.1</td>\n",
              "      <td>5.1</td>\n",
              "      <td>2.3</td>\n",
              "      <td>virginica</td>\n",
              "      <td>2</td>\n",
              "    </tr>\n",
              "    <tr>\n",
              "      <td>3</td>\n",
              "      <td>4.8</td>\n",
              "      <td>3.4</td>\n",
              "      <td>1.9</td>\n",
              "      <td>0.2</td>\n",
              "      <td>setosa</td>\n",
              "      <td>3</td>\n",
              "    </tr>\n",
              "    <tr>\n",
              "      <td>4</td>\n",
              "      <td>5.4</td>\n",
              "      <td>3.0</td>\n",
              "      <td>4.5</td>\n",
              "      <td>1.5</td>\n",
              "      <td>versicolor</td>\n",
              "      <td>4</td>\n",
              "    </tr>\n",
              "    <tr>\n",
              "      <td>5</td>\n",
              "      <td>4.6</td>\n",
              "      <td>3.6</td>\n",
              "      <td>1.0</td>\n",
              "      <td>0.2</td>\n",
              "      <td>setosa</td>\n",
              "      <td>5</td>\n",
              "    </tr>\n",
              "  </tbody>\n",
              "</table>\n",
              "</div>"
            ],
            "text/plain": [
              "   sepal_length  sepal_width  petal_length  petal_width     species  \\\n",
              "1           6.9          3.2           5.7          2.3   virginica   \n",
              "2           6.9          3.1           5.1          2.3   virginica   \n",
              "3           4.8          3.4           1.9          0.2      setosa   \n",
              "4           5.4          3.0           4.5          1.5  versicolor   \n",
              "5           4.6          3.6           1.0          0.2      setosa   \n",
              "\n",
              "   new_column  \n",
              "1           1  \n",
              "2           2  \n",
              "3           3  \n",
              "4           4  \n",
              "5           5  "
            ]
          },
          "execution_count": 21,
          "metadata": {},
          "output_type": "execute_result"
        }
      ],
      "source": [
        "df['new_column'] = [1, 2, 3, 4, 5]\n",
        "df"
      ]
    },
    {
      "cell_type": "code",
      "execution_count": null,
      "metadata": {
        "id": "PO0rKfj4QGW4",
        "outputId": "78eb68eb-e9df-4d18-831c-95032d4a6d6d"
      },
      "outputs": [
        {
          "data": {
            "text/html": [
              "<div>\n",
              "<style scoped>\n",
              "    .dataframe tbody tr th:only-of-type {\n",
              "        vertical-align: middle;\n",
              "    }\n",
              "\n",
              "    .dataframe tbody tr th {\n",
              "        vertical-align: top;\n",
              "    }\n",
              "\n",
              "    .dataframe thead th {\n",
              "        text-align: right;\n",
              "    }\n",
              "</style>\n",
              "<table border=\"1\" class=\"dataframe\">\n",
              "  <thead>\n",
              "    <tr style=\"text-align: right;\">\n",
              "      <th></th>\n",
              "      <th>sepal_length</th>\n",
              "      <th>sepal_width</th>\n",
              "      <th>petal_length</th>\n",
              "      <th>petal_width</th>\n",
              "      <th>species</th>\n",
              "      <th>new_column</th>\n",
              "    </tr>\n",
              "  </thead>\n",
              "  <tbody>\n",
              "    <tr>\n",
              "      <td>1</td>\n",
              "      <td>6.9</td>\n",
              "      <td>3.2</td>\n",
              "      <td>5.7</td>\n",
              "      <td>2.3</td>\n",
              "      <td>virginica</td>\n",
              "      <td>1.2</td>\n",
              "    </tr>\n",
              "    <tr>\n",
              "      <td>2</td>\n",
              "      <td>6.9</td>\n",
              "      <td>3.1</td>\n",
              "      <td>5.1</td>\n",
              "      <td>2.3</td>\n",
              "      <td>virginica</td>\n",
              "      <td>1.8</td>\n",
              "    </tr>\n",
              "    <tr>\n",
              "      <td>3</td>\n",
              "      <td>4.8</td>\n",
              "      <td>3.4</td>\n",
              "      <td>1.9</td>\n",
              "      <td>0.2</td>\n",
              "      <td>setosa</td>\n",
              "      <td>2.9</td>\n",
              "    </tr>\n",
              "    <tr>\n",
              "      <td>4</td>\n",
              "      <td>5.4</td>\n",
              "      <td>3.0</td>\n",
              "      <td>4.5</td>\n",
              "      <td>1.5</td>\n",
              "      <td>versicolor</td>\n",
              "      <td>0.9</td>\n",
              "    </tr>\n",
              "    <tr>\n",
              "      <td>5</td>\n",
              "      <td>4.6</td>\n",
              "      <td>3.6</td>\n",
              "      <td>1.0</td>\n",
              "      <td>0.2</td>\n",
              "      <td>setosa</td>\n",
              "      <td>3.6</td>\n",
              "    </tr>\n",
              "  </tbody>\n",
              "</table>\n",
              "</div>"
            ],
            "text/plain": [
              "   sepal_length  sepal_width  petal_length  petal_width     species  \\\n",
              "1           6.9          3.2           5.7          2.3   virginica   \n",
              "2           6.9          3.1           5.1          2.3   virginica   \n",
              "3           4.8          3.4           1.9          0.2      setosa   \n",
              "4           5.4          3.0           4.5          1.5  versicolor   \n",
              "5           4.6          3.6           1.0          0.2      setosa   \n",
              "\n",
              "   new_column  \n",
              "1         1.2  \n",
              "2         1.8  \n",
              "3         2.9  \n",
              "4         0.9  \n",
              "5         3.6  "
            ]
          },
          "execution_count": 22,
          "metadata": {},
          "output_type": "execute_result"
        }
      ],
      "source": [
        "df['new_column'] = df['sepal_length'] - df['petal_length']\n",
        "df"
      ]
    },
    {
      "cell_type": "markdown",
      "metadata": {
        "id": "pWu1ETgpQGW4"
      },
      "source": [
        "## Example API: Eurostat\n",
        "\n",
        "Let's dive in by looking at an API that can be of use to us, the [EUROSTAT API](https://ec.europa.eu/eurostat/web/json-and-unicode-web-services).\n",
        "\n",
        "The documentation linked gives a very useful summary of the structure of the requests:\n",
        "![](https://github.com/nestauk/im-tutorials/blob/3-ysi-tutorial/notebooks/APIs/figures/eurostat_api.png?raw=1)\n",
        "\n",
        "* host_url : fixed part of the request related to our website\n",
        "* service : fixed part of the request related to the service\n",
        "* version : fixed part of the request related to the version of the service\n",
        "* format : data format to be returned (json or unicode)\n",
        "* lang : language used for metadata (en/fr/de)\n",
        "* datasetCode : unique code identifier of the queried dataset\n",
        "* filters : specify the scope of the query (optional). There is a threshold of maximum 50 sub-indicators per query. The filters are specific to a dataset, depending on dataset dimensions.\n",
        "    * precision : the number of decimals for the values returned by the request\n",
        "    * unit : filter on the dataset's UNIT dimension"
      ]
    },
    {
      "cell_type": "markdown",
      "metadata": {
        "id": "d0TBohnYQGW4"
      },
      "source": [
        "We'll learn by example how to use Python to get the data for a REST GET request on this dataset (`nama_10_gdp`).\n",
        "\n",
        "We will use the Python library `requests` - https://github.com/psf/requests."
      ]
    },
    {
      "cell_type": "code",
      "execution_count": 1,
      "metadata": {
        "id": "f_RMAsqIQGW-",
        "outputId": "1f19e98c-e44c-4726-a8ae-3ffc0c3d6c47"
      },
      "outputs": [
        {
          "name": "stdout",
          "output_type": "stream",
          "text": [
            "http://ec.europa.eu/eurostat/wdds/rest/data/v2.1/json/en/nama_10_gdp?precision=1&unit=CLV05_MEUR&geo=NL&geo=DE&time=2010&time=2011&time=2012&na_item=B1GQ&na_item=D21\n",
            "Request returned 404 : ''\n"
          ]
        },
        {
          "ename": "JSONDecodeError",
          "evalue": "Expecting value: line 39 column 4 (char 44)",
          "output_type": "error",
          "traceback": [
            "\u001b[1;31m---------------------------------------------------------------------------\u001b[0m",
            "\u001b[1;31mJSONDecodeError\u001b[0m                           Traceback (most recent call last)",
            "File \u001b[1;32mc:\\Users\\maste\\AppData\\Local\\Programs\\Python\\Python311\\Lib\\site-packages\\requests\\models.py:971\u001b[0m, in \u001b[0;36mResponse.json\u001b[1;34m(self, **kwargs)\u001b[0m\n\u001b[0;32m    970\u001b[0m \u001b[39mtry\u001b[39;00m:\n\u001b[1;32m--> 971\u001b[0m     \u001b[39mreturn\u001b[39;00m complexjson\u001b[39m.\u001b[39;49mloads(\u001b[39mself\u001b[39;49m\u001b[39m.\u001b[39;49mtext, \u001b[39m*\u001b[39;49m\u001b[39m*\u001b[39;49mkwargs)\n\u001b[0;32m    972\u001b[0m \u001b[39mexcept\u001b[39;00m JSONDecodeError \u001b[39mas\u001b[39;00m e:\n\u001b[0;32m    973\u001b[0m     \u001b[39m# Catch JSON-related errors and raise as requests.JSONDecodeError\u001b[39;00m\n\u001b[0;32m    974\u001b[0m     \u001b[39m# This aliases json.JSONDecodeError and simplejson.JSONDecodeError\u001b[39;00m\n",
            "File \u001b[1;32mc:\\Users\\maste\\AppData\\Local\\Programs\\Python\\Python311\\Lib\\json\\__init__.py:346\u001b[0m, in \u001b[0;36mloads\u001b[1;34m(s, cls, object_hook, parse_float, parse_int, parse_constant, object_pairs_hook, **kw)\u001b[0m\n\u001b[0;32m    343\u001b[0m \u001b[39mif\u001b[39;00m (\u001b[39mcls\u001b[39m \u001b[39mis\u001b[39;00m \u001b[39mNone\u001b[39;00m \u001b[39mand\u001b[39;00m object_hook \u001b[39mis\u001b[39;00m \u001b[39mNone\u001b[39;00m \u001b[39mand\u001b[39;00m\n\u001b[0;32m    344\u001b[0m         parse_int \u001b[39mis\u001b[39;00m \u001b[39mNone\u001b[39;00m \u001b[39mand\u001b[39;00m parse_float \u001b[39mis\u001b[39;00m \u001b[39mNone\u001b[39;00m \u001b[39mand\u001b[39;00m\n\u001b[0;32m    345\u001b[0m         parse_constant \u001b[39mis\u001b[39;00m \u001b[39mNone\u001b[39;00m \u001b[39mand\u001b[39;00m object_pairs_hook \u001b[39mis\u001b[39;00m \u001b[39mNone\u001b[39;00m \u001b[39mand\u001b[39;00m \u001b[39mnot\u001b[39;00m kw):\n\u001b[1;32m--> 346\u001b[0m     \u001b[39mreturn\u001b[39;00m _default_decoder\u001b[39m.\u001b[39;49mdecode(s)\n\u001b[0;32m    347\u001b[0m \u001b[39mif\u001b[39;00m \u001b[39mcls\u001b[39m \u001b[39mis\u001b[39;00m \u001b[39mNone\u001b[39;00m:\n",
            "File \u001b[1;32mc:\\Users\\maste\\AppData\\Local\\Programs\\Python\\Python311\\Lib\\json\\decoder.py:337\u001b[0m, in \u001b[0;36mJSONDecoder.decode\u001b[1;34m(self, s, _w)\u001b[0m\n\u001b[0;32m    333\u001b[0m \u001b[39m\u001b[39m\u001b[39m\"\"\"Return the Python representation of ``s`` (a ``str`` instance\u001b[39;00m\n\u001b[0;32m    334\u001b[0m \u001b[39mcontaining a JSON document).\u001b[39;00m\n\u001b[0;32m    335\u001b[0m \n\u001b[0;32m    336\u001b[0m \u001b[39m\"\"\"\u001b[39;00m\n\u001b[1;32m--> 337\u001b[0m obj, end \u001b[39m=\u001b[39m \u001b[39mself\u001b[39;49m\u001b[39m.\u001b[39;49mraw_decode(s, idx\u001b[39m=\u001b[39;49m_w(s, \u001b[39m0\u001b[39;49m)\u001b[39m.\u001b[39;49mend())\n\u001b[0;32m    338\u001b[0m end \u001b[39m=\u001b[39m _w(s, end)\u001b[39m.\u001b[39mend()\n",
            "File \u001b[1;32mc:\\Users\\maste\\AppData\\Local\\Programs\\Python\\Python311\\Lib\\json\\decoder.py:355\u001b[0m, in \u001b[0;36mJSONDecoder.raw_decode\u001b[1;34m(self, s, idx)\u001b[0m\n\u001b[0;32m    354\u001b[0m \u001b[39mexcept\u001b[39;00m \u001b[39mStopIteration\u001b[39;00m \u001b[39mas\u001b[39;00m err:\n\u001b[1;32m--> 355\u001b[0m     \u001b[39mraise\u001b[39;00m JSONDecodeError(\u001b[39m\"\u001b[39m\u001b[39mExpecting value\u001b[39m\u001b[39m\"\u001b[39m, s, err\u001b[39m.\u001b[39mvalue) \u001b[39mfrom\u001b[39;00m \u001b[39mNone\u001b[39;00m\n\u001b[0;32m    356\u001b[0m \u001b[39mreturn\u001b[39;00m obj, end\n",
            "\u001b[1;31mJSONDecodeError\u001b[0m: Expecting value: line 39 column 4 (char 44)",
            "\nDuring handling of the above exception, another exception occurred:\n",
            "\u001b[1;31mJSONDecodeError\u001b[0m                           Traceback (most recent call last)",
            "Cell \u001b[1;32mIn[1], line 21\u001b[0m\n\u001b[0;32m     18\u001b[0m \u001b[39mprint\u001b[39m(\u001b[39mf\u001b[39m\u001b[39m\"\u001b[39m\u001b[39mRequest returned \u001b[39m\u001b[39m{\u001b[39;00mresponse\u001b[39m.\u001b[39mstatus_code\u001b[39m}\u001b[39;00m\u001b[39m : \u001b[39m\u001b[39m'\u001b[39m\u001b[39m{\u001b[39;00mresponse\u001b[39m.\u001b[39mreason\u001b[39m}\u001b[39;00m\u001b[39m'\u001b[39m\u001b[39m\"\u001b[39m)\n\u001b[0;32m     20\u001b[0m \u001b[39m# Print data returned (parsing as JSON)\u001b[39;00m\n\u001b[1;32m---> 21\u001b[0m payload \u001b[39m=\u001b[39m response\u001b[39m.\u001b[39;49mjson()  \u001b[39m# Parse `response.text` into JSON\u001b[39;00m\n\u001b[0;32m     23\u001b[0m \u001b[39mimport\u001b[39;00m \u001b[39mpprint\u001b[39;00m\n\u001b[0;32m     24\u001b[0m pp \u001b[39m=\u001b[39m pprint\u001b[39m.\u001b[39mPrettyPrinter(indent\u001b[39m=\u001b[39m\u001b[39m1\u001b[39m)\n",
            "File \u001b[1;32mc:\\Users\\maste\\AppData\\Local\\Programs\\Python\\Python311\\Lib\\site-packages\\requests\\models.py:975\u001b[0m, in \u001b[0;36mResponse.json\u001b[1;34m(self, **kwargs)\u001b[0m\n\u001b[0;32m    971\u001b[0m     \u001b[39mreturn\u001b[39;00m complexjson\u001b[39m.\u001b[39mloads(\u001b[39mself\u001b[39m\u001b[39m.\u001b[39mtext, \u001b[39m*\u001b[39m\u001b[39m*\u001b[39mkwargs)\n\u001b[0;32m    972\u001b[0m \u001b[39mexcept\u001b[39;00m JSONDecodeError \u001b[39mas\u001b[39;00m e:\n\u001b[0;32m    973\u001b[0m     \u001b[39m# Catch JSON-related errors and raise as requests.JSONDecodeError\u001b[39;00m\n\u001b[0;32m    974\u001b[0m     \u001b[39m# This aliases json.JSONDecodeError and simplejson.JSONDecodeError\u001b[39;00m\n\u001b[1;32m--> 975\u001b[0m     \u001b[39mraise\u001b[39;00m RequestsJSONDecodeError(e\u001b[39m.\u001b[39mmsg, e\u001b[39m.\u001b[39mdoc, e\u001b[39m.\u001b[39mpos)\n",
            "\u001b[1;31mJSONDecodeError\u001b[0m: Expecting value: line 39 column 4 (char 44)"
          ]
        }
      ],
      "source": [
        "import requests  # Import the requests library\n",
        "\n",
        "# Query URL\n",
        "url = ('http://ec.europa.eu/eurostat/wdds/rest/data/v2.1/json/en'\n",
        "       '/nama_10_gdp?precision=1'\n",
        "       '&unit=CLV05_MEUR'  # Unit: CLV (2005) Million EUR\n",
        "       '&geo=NL&geo=DE'  # Country: Netherlands, Germany\n",
        "       '&time=2010&time=2011&time=2012'  # Years: 2010, 2011, 2012\n",
        "       '&na_item=B1GQ&na_item=D21'  # GDP (market prices) & taxes on products\n",
        "       )\n",
        "# Some api's will have nicer syntax like:\n",
        "# `&time=2010..2012` or `&na_item=B1GQ,D21`\n",
        "print(url)\n",
        "\n",
        "response = requests.get(url)  # Make a GET request to the URL\n",
        "\n",
        "# Print status code (and associated text)\n",
        "print(f\"Request returned {response.status_code} : '{response.reason}'\")\n",
        "\n",
        "# Print data returned (parsing as JSON)\n",
        "payload = response.json()  # Parse `response.text` into JSON\n",
        "\n",
        "import pprint\n",
        "pp = pprint.PrettyPrinter(indent=1)\n",
        "pp.pprint(payload)\n",
        "# NOTE: Could use print(response.json()) but this wouldn't be formatted nicely"
      ]
    },
    {
      "cell_type": "markdown",
      "metadata": {
        "id": "cFXNvZuPQGW-"
      },
      "source": [
        "---\n",
        "\n",
        "**Tip:** it's easy to forget what attributes a variable like `response` has - was it `status_code` or `status`?\n",
        "Use the function `dir` to list the contents of a variable.\n",
        "\n",
        "``` python\n",
        "dir(response)\n",
        "```\n",
        "\n",
        "If you're in a jupyter notebook you can also type \"response.\" and then press `TAB` and an autocomplete bar will pop up.\n",
        "\n",
        "---"
      ]
    },
    {
      "cell_type": "markdown",
      "metadata": {
        "id": "axlNIBQ-QGW-"
      },
      "source": [
        "**SUCCESS!** But what's the structure of our data?"
      ]
    },
    {
      "cell_type": "code",
      "execution_count": 3,
      "metadata": {
        "id": "6VufOp4iQGW_",
        "outputId": "2b1c0a7f-4ba4-4347-e428-121b8fc43c36"
      },
      "outputs": [
        {
          "ename": "NameError",
          "evalue": "name 'payload' is not defined",
          "output_type": "error",
          "traceback": [
            "\u001b[1;31m---------------------------------------------------------------------------\u001b[0m",
            "\u001b[1;31mNameError\u001b[0m                                 Traceback (most recent call last)",
            "Cell \u001b[1;32mIn[3], line 1\u001b[0m\n\u001b[1;32m----> 1\u001b[0m payload[\u001b[39m'\u001b[39m\u001b[39mvalue\u001b[39m\u001b[39m'\u001b[39m]  \u001b[39m# The values returned aren't very informative!\u001b[39;00m\n",
            "\u001b[1;31mNameError\u001b[0m: name 'payload' is not defined"
          ]
        }
      ],
      "source": [
        "payload['value']  # The values returned aren't very informative!"
      ]
    },
    {
      "cell_type": "code",
      "execution_count": null,
      "metadata": {
        "id": "ozWR5vFdQGW_",
        "outputId": "94c24701-848b-4282-aa84-c284e77cc249"
      },
      "outputs": [
        {
          "data": {
            "text/plain": [
              "[('unit', 1), ('na_item', 2), ('geo', 2), ('time', 3)]"
            ]
          },
          "execution_count": 25,
          "metadata": {},
          "output_type": "execute_result"
        }
      ],
      "source": [
        "list(zip(payload['id'], payload['size']))  # Dimensions of our data (1 x 2 x 2 x 3)"
      ]
    },
    {
      "cell_type": "code",
      "execution_count": null,
      "metadata": {
        "id": "oizWRMuRQGW_",
        "outputId": "c882e51e-6ef0-49f6-8404-b4f55c0e646c"
      },
      "outputs": [
        {
          "data": {
            "text/plain": [
              "{'unit': {'label': 'unit',\n",
              "  'category': {'index': {'CLV05_MEUR': 0},\n",
              "   'label': {'CLV05_MEUR': 'Chain linked volumes (2005), million euro'}}},\n",
              " 'na_item': {'label': 'na_item',\n",
              "  'category': {'index': {'B1GQ': 0, 'D21': 1},\n",
              "   'label': {'B1GQ': 'Gross domestic product at market prices',\n",
              "    'D21': 'Taxes on products'}}},\n",
              " 'geo': {'label': 'geo',\n",
              "  'category': {'index': {'DE': 0, 'NL': 1},\n",
              "   'label': {'DE': 'Germany (until 1990 former territory of the FRG)',\n",
              "    'NL': 'Netherlands'}}},\n",
              " 'time': {'label': 'time',\n",
              "  'category': {'index': {'2010': 0, '2011': 1, '2012': 2},\n",
              "   'label': {'2010': '2010', '2011': '2011', '2012': '2012'}}}}"
            ]
          },
          "execution_count": 26,
          "metadata": {},
          "output_type": "execute_result"
        }
      ],
      "source": [
        "payload['dimension']  # Gives us the dimension details of the data"
      ]
    },
    {
      "cell_type": "markdown",
      "metadata": {
        "id": "I5rPxuQ_QGW_"
      },
      "source": [
        "We want to extract the indices from each dimension of the data (e.g. 'DE' and 'NL' for 'geo') and enumerate all the possible index combinations in order to build the index for the values in `payload['value']`.\n",
        "\n",
        "Lets first extract the indices..."
      ]
    },
    {
      "cell_type": "code",
      "execution_count": null,
      "metadata": {
        "id": "cPpwHDEDQGW_",
        "outputId": "293bd144-55ff-4bca-a3b2-2a322b00e45d"
      },
      "outputs": [
        {
          "name": "stdout",
          "output_type": "stream",
          "text": [
            "[dict_keys(['CLV05_MEUR']), dict_keys(['B1GQ', 'D21']), dict_keys(['DE', 'NL']), dict_keys(['2010', '2011', '2012'])]\n"
          ]
        }
      ],
      "source": [
        "list_of_keys = []\n",
        "for k in payload['id']:\n",
        "    list_of_keys.append(\n",
        "        payload['dimension'][k]['category']['index'].keys()\n",
        "        )\n",
        "print(list_of_keys)\n",
        "\n",
        "# NOTE: Equivalent to: [payload['dimension'][k]['category']['index'].keys() for k in payload['id']]"
      ]
    },
    {
      "cell_type": "markdown",
      "metadata": {
        "id": "LN34ePf-QGW_"
      },
      "source": [
        "Now we want to enumerate all the combinations.\n",
        "\n",
        "Fortunately pandas has a function `pd.MultiIndex.from_product` that will do this for us, and let us (optionally) name each of the dimensions by passing a `names=` argument."
      ]
    },
    {
      "cell_type": "code",
      "execution_count": null,
      "metadata": {
        "id": "UQ3AHpQGQGXA",
        "outputId": "2f0e0032-0910-446c-b677-96b89ff2f769"
      },
      "outputs": [
        {
          "data": {
            "text/plain": [
              "MultiIndex([('CLV05_MEUR', 'B1GQ', 'DE', '2010'),\n",
              "            ('CLV05_MEUR', 'B1GQ', 'DE', '2011'),\n",
              "            ('CLV05_MEUR', 'B1GQ', 'DE', '2012'),\n",
              "            ('CLV05_MEUR', 'B1GQ', 'NL', '2010'),\n",
              "            ('CLV05_MEUR', 'B1GQ', 'NL', '2011'),\n",
              "            ('CLV05_MEUR', 'B1GQ', 'NL', '2012'),\n",
              "            ('CLV05_MEUR',  'D21', 'DE', '2010'),\n",
              "            ('CLV05_MEUR',  'D21', 'DE', '2011'),\n",
              "            ('CLV05_MEUR',  'D21', 'DE', '2012'),\n",
              "            ('CLV05_MEUR',  'D21', 'NL', '2010'),\n",
              "            ('CLV05_MEUR',  'D21', 'NL', '2011'),\n",
              "            ('CLV05_MEUR',  'D21', 'NL', '2012')],\n",
              "           names=['unit', 'na_item', 'geo', 'time'])"
            ]
          },
          "execution_count": 28,
          "metadata": {},
          "output_type": "execute_result"
        }
      ],
      "source": [
        "index = pd.MultiIndex.from_product(\n",
        "    list_of_keys, names=payload['id']\n",
        ")\n",
        "index"
      ]
    },
    {
      "cell_type": "markdown",
      "metadata": {
        "id": "q_N1XBLlQGXA"
      },
      "source": [
        "Now our index is built we can pass in a list of values, index, and columns to `pd.DataFrame`."
      ]
    },
    {
      "cell_type": "code",
      "execution_count": null,
      "metadata": {
        "id": "PAWaZyGWQGXA",
        "outputId": "e46eb918-97a8-4ebd-9798-521d126bc2ae"
      },
      "outputs": [
        {
          "data": {
            "text/html": [
              "<div>\n",
              "<style scoped>\n",
              "    .dataframe tbody tr th:only-of-type {\n",
              "        vertical-align: middle;\n",
              "    }\n",
              "\n",
              "    .dataframe tbody tr th {\n",
              "        vertical-align: top;\n",
              "    }\n",
              "\n",
              "    .dataframe thead th {\n",
              "        text-align: right;\n",
              "    }\n",
              "</style>\n",
              "<table border=\"1\" class=\"dataframe\">\n",
              "  <thead>\n",
              "    <tr style=\"text-align: right;\">\n",
              "      <th></th>\n",
              "      <th></th>\n",
              "      <th></th>\n",
              "      <th></th>\n",
              "      <th>value</th>\n",
              "    </tr>\n",
              "    <tr>\n",
              "      <th>unit</th>\n",
              "      <th>na_item</th>\n",
              "      <th>geo</th>\n",
              "      <th>time</th>\n",
              "      <th></th>\n",
              "    </tr>\n",
              "  </thead>\n",
              "  <tbody>\n",
              "    <tr>\n",
              "      <td rowspan=\"12\" valign=\"top\">CLV05_MEUR</td>\n",
              "      <td rowspan=\"6\" valign=\"top\">B1GQ</td>\n",
              "      <td rowspan=\"3\" valign=\"top\">DE</td>\n",
              "      <td>2010</td>\n",
              "      <td>2426650.8</td>\n",
              "    </tr>\n",
              "    <tr>\n",
              "      <td>2011</td>\n",
              "      <td>2521875.8</td>\n",
              "    </tr>\n",
              "    <tr>\n",
              "      <td>2012</td>\n",
              "      <td>2532456.4</td>\n",
              "    </tr>\n",
              "    <tr>\n",
              "      <td rowspan=\"3\" valign=\"top\">NL</td>\n",
              "      <td>2010</td>\n",
              "      <td>589946.6</td>\n",
              "    </tr>\n",
              "    <tr>\n",
              "      <td>2011</td>\n",
              "      <td>599097.8</td>\n",
              "    </tr>\n",
              "    <tr>\n",
              "      <td>2012</td>\n",
              "      <td>592925.0</td>\n",
              "    </tr>\n",
              "    <tr>\n",
              "      <td rowspan=\"6\" valign=\"top\">D21</td>\n",
              "      <td rowspan=\"3\" valign=\"top\">DE</td>\n",
              "      <td>2010</td>\n",
              "      <td>228297.9</td>\n",
              "    </tr>\n",
              "    <tr>\n",
              "      <td>2011</td>\n",
              "      <td>237275.9</td>\n",
              "    </tr>\n",
              "    <tr>\n",
              "      <td>2012</td>\n",
              "      <td>236325.2</td>\n",
              "    </tr>\n",
              "    <tr>\n",
              "      <td rowspan=\"3\" valign=\"top\">NL</td>\n",
              "      <td>2010</td>\n",
              "      <td>60631.6</td>\n",
              "    </tr>\n",
              "    <tr>\n",
              "      <td>2011</td>\n",
              "      <td>59852.5</td>\n",
              "    </tr>\n",
              "    <tr>\n",
              "      <td>2012</td>\n",
              "      <td>57924.1</td>\n",
              "    </tr>\n",
              "  </tbody>\n",
              "</table>\n",
              "</div>"
            ],
            "text/plain": [
              "                                 value\n",
              "unit       na_item geo time           \n",
              "CLV05_MEUR B1GQ    DE  2010  2426650.8\n",
              "                       2011  2521875.8\n",
              "                       2012  2532456.4\n",
              "                   NL  2010   589946.6\n",
              "                       2011   599097.8\n",
              "                       2012   592925.0\n",
              "           D21     DE  2010   228297.9\n",
              "                       2011   237275.9\n",
              "                       2012   236325.2\n",
              "                   NL  2010    60631.6\n",
              "                       2011    59852.5\n",
              "                       2012    57924.1"
            ]
          },
          "execution_count": 29,
          "metadata": {},
          "output_type": "execute_result"
        }
      ],
      "source": [
        "df = pd.DataFrame(payload['value'].values(), index=index, columns=['value'])\n",
        "df"
      ]
    },
    {
      "cell_type": "markdown",
      "metadata": {
        "id": "6G6gs93cQGXA"
      },
      "source": [
        "---\n",
        "\n",
        "We can calculate the means (across years) for each country and each `na_item` using `.groupby(...)` on a DataFrame.\n",
        "\n",
        "`groupby` simply groups a dataframe over the indexes/columns that are passed to it, on which we can then apply an aggregation function such as `.mean()`"
      ]
    },
    {
      "cell_type": "code",
      "execution_count": null,
      "metadata": {
        "id": "TAYjEzbVQGXA",
        "outputId": "d0c6800c-b69a-40cb-a802-5c1bdfb52a15"
      },
      "outputs": [
        {
          "data": {
            "text/html": [
              "<div>\n",
              "<style scoped>\n",
              "    .dataframe tbody tr th:only-of-type {\n",
              "        vertical-align: middle;\n",
              "    }\n",
              "\n",
              "    .dataframe tbody tr th {\n",
              "        vertical-align: top;\n",
              "    }\n",
              "\n",
              "    .dataframe thead th {\n",
              "        text-align: right;\n",
              "    }\n",
              "</style>\n",
              "<table border=\"1\" class=\"dataframe\">\n",
              "  <thead>\n",
              "    <tr style=\"text-align: right;\">\n",
              "      <th></th>\n",
              "      <th></th>\n",
              "      <th>value</th>\n",
              "    </tr>\n",
              "    <tr>\n",
              "      <th>na_item</th>\n",
              "      <th>geo</th>\n",
              "      <th></th>\n",
              "    </tr>\n",
              "  </thead>\n",
              "  <tbody>\n",
              "    <tr>\n",
              "      <td rowspan=\"2\" valign=\"top\">B1GQ</td>\n",
              "      <td>DE</td>\n",
              "      <td>2.493661e+06</td>\n",
              "    </tr>\n",
              "    <tr>\n",
              "      <td>NL</td>\n",
              "      <td>5.939898e+05</td>\n",
              "    </tr>\n",
              "    <tr>\n",
              "      <td rowspan=\"2\" valign=\"top\">D21</td>\n",
              "      <td>DE</td>\n",
              "      <td>2.339663e+05</td>\n",
              "    </tr>\n",
              "    <tr>\n",
              "      <td>NL</td>\n",
              "      <td>5.946940e+04</td>\n",
              "    </tr>\n",
              "  </tbody>\n",
              "</table>\n",
              "</div>"
            ],
            "text/plain": [
              "                    value\n",
              "na_item geo              \n",
              "B1GQ    DE   2.493661e+06\n",
              "        NL   5.939898e+05\n",
              "D21     DE   2.339663e+05\n",
              "        NL   5.946940e+04"
            ]
          },
          "execution_count": 30,
          "metadata": {},
          "output_type": "execute_result"
        }
      ],
      "source": [
        "df_means = (df.groupby(['na_item', 'geo'])\n",
        "            .mean()\n",
        "           )\n",
        "df_means"
      ]
    },
    {
      "cell_type": "markdown",
      "metadata": {
        "id": "W_VQ5FxJQGXA"
      },
      "source": [
        "---"
      ]
    },
    {
      "cell_type": "markdown",
      "metadata": {
        "id": "PEZZ0GTKQGXB"
      },
      "source": [
        "We can \"unstack\" indexes to become columns..."
      ]
    },
    {
      "cell_type": "code",
      "execution_count": null,
      "metadata": {
        "id": "D9wEMW4oQGXB",
        "outputId": "bbd51b9e-5c43-4e66-cbd8-732929a7d67a"
      },
      "outputs": [
        {
          "data": {
            "text/html": [
              "<div>\n",
              "<style scoped>\n",
              "    .dataframe tbody tr th:only-of-type {\n",
              "        vertical-align: middle;\n",
              "    }\n",
              "\n",
              "    .dataframe tbody tr th {\n",
              "        vertical-align: top;\n",
              "    }\n",
              "\n",
              "    .dataframe thead tr th {\n",
              "        text-align: left;\n",
              "    }\n",
              "\n",
              "    .dataframe thead tr:last-of-type th {\n",
              "        text-align: right;\n",
              "    }\n",
              "</style>\n",
              "<table border=\"1\" class=\"dataframe\">\n",
              "  <thead>\n",
              "    <tr>\n",
              "      <th></th>\n",
              "      <th></th>\n",
              "      <th></th>\n",
              "      <th colspan=\"2\" halign=\"left\">value</th>\n",
              "    </tr>\n",
              "    <tr>\n",
              "      <th></th>\n",
              "      <th></th>\n",
              "      <th>na_item</th>\n",
              "      <th>B1GQ</th>\n",
              "      <th>D21</th>\n",
              "    </tr>\n",
              "    <tr>\n",
              "      <th>unit</th>\n",
              "      <th>geo</th>\n",
              "      <th>time</th>\n",
              "      <th></th>\n",
              "      <th></th>\n",
              "    </tr>\n",
              "  </thead>\n",
              "  <tbody>\n",
              "    <tr>\n",
              "      <td rowspan=\"6\" valign=\"top\">CLV05_MEUR</td>\n",
              "      <td rowspan=\"3\" valign=\"top\">DE</td>\n",
              "      <td>2010</td>\n",
              "      <td>2426650.8</td>\n",
              "      <td>228297.9</td>\n",
              "    </tr>\n",
              "    <tr>\n",
              "      <td>2011</td>\n",
              "      <td>2521875.8</td>\n",
              "      <td>237275.9</td>\n",
              "    </tr>\n",
              "    <tr>\n",
              "      <td>2012</td>\n",
              "      <td>2532456.4</td>\n",
              "      <td>236325.2</td>\n",
              "    </tr>\n",
              "    <tr>\n",
              "      <td rowspan=\"3\" valign=\"top\">NL</td>\n",
              "      <td>2010</td>\n",
              "      <td>589946.6</td>\n",
              "      <td>60631.6</td>\n",
              "    </tr>\n",
              "    <tr>\n",
              "      <td>2011</td>\n",
              "      <td>599097.8</td>\n",
              "      <td>59852.5</td>\n",
              "    </tr>\n",
              "    <tr>\n",
              "      <td>2012</td>\n",
              "      <td>592925.0</td>\n",
              "      <td>57924.1</td>\n",
              "    </tr>\n",
              "  </tbody>\n",
              "</table>\n",
              "</div>"
            ],
            "text/plain": [
              "                         value          \n",
              "na_item                   B1GQ       D21\n",
              "unit       geo time                     \n",
              "CLV05_MEUR DE  2010  2426650.8  228297.9\n",
              "               2011  2521875.8  237275.9\n",
              "               2012  2532456.4  236325.2\n",
              "           NL  2010   589946.6   60631.6\n",
              "               2011   599097.8   59852.5\n",
              "               2012   592925.0   57924.1"
            ]
          },
          "execution_count": 31,
          "metadata": {},
          "output_type": "execute_result"
        }
      ],
      "source": [
        "df.unstack('na_item')\n",
        "\n"
      ]
    },
    {
      "cell_type": "markdown",
      "metadata": {
        "id": "oDfN4TgFQGXB"
      },
      "source": [
        "Note the `value` at the top level of the columns above - this means we can't do `df['D21']` directly, but have to do `df['value']['D21']  (or drop the `value` level from our dataframe which we will see below).\n",
        "\n",
        "\n",
        "We can reverse what we just did with \"stack\".\n",
        "`stack` makes a dataset longer (taller) and `unstack` makes a dataset wider"
      ]
    },
    {
      "cell_type": "code",
      "execution_count": null,
      "metadata": {
        "id": "DOZBGPnHQGXB",
        "outputId": "b9255033-1cbf-4f68-a8ff-2df3d3701371"
      },
      "outputs": [
        {
          "data": {
            "text/html": [
              "<div>\n",
              "<style scoped>\n",
              "    .dataframe tbody tr th:only-of-type {\n",
              "        vertical-align: middle;\n",
              "    }\n",
              "\n",
              "    .dataframe tbody tr th {\n",
              "        vertical-align: top;\n",
              "    }\n",
              "\n",
              "    .dataframe thead th {\n",
              "        text-align: right;\n",
              "    }\n",
              "</style>\n",
              "<table border=\"1\" class=\"dataframe\">\n",
              "  <thead>\n",
              "    <tr style=\"text-align: right;\">\n",
              "      <th></th>\n",
              "      <th></th>\n",
              "      <th></th>\n",
              "      <th></th>\n",
              "      <th>value</th>\n",
              "    </tr>\n",
              "    <tr>\n",
              "      <th>unit</th>\n",
              "      <th>geo</th>\n",
              "      <th>time</th>\n",
              "      <th>na_item</th>\n",
              "      <th></th>\n",
              "    </tr>\n",
              "  </thead>\n",
              "  <tbody>\n",
              "    <tr>\n",
              "      <td rowspan=\"12\" valign=\"top\">CLV05_MEUR</td>\n",
              "      <td rowspan=\"6\" valign=\"top\">DE</td>\n",
              "      <td rowspan=\"2\" valign=\"top\">2010</td>\n",
              "      <td>B1GQ</td>\n",
              "      <td>2426650.8</td>\n",
              "    </tr>\n",
              "    <tr>\n",
              "      <td>D21</td>\n",
              "      <td>228297.9</td>\n",
              "    </tr>\n",
              "    <tr>\n",
              "      <td rowspan=\"2\" valign=\"top\">2011</td>\n",
              "      <td>B1GQ</td>\n",
              "      <td>2521875.8</td>\n",
              "    </tr>\n",
              "    <tr>\n",
              "      <td>D21</td>\n",
              "      <td>237275.9</td>\n",
              "    </tr>\n",
              "    <tr>\n",
              "      <td rowspan=\"2\" valign=\"top\">2012</td>\n",
              "      <td>B1GQ</td>\n",
              "      <td>2532456.4</td>\n",
              "    </tr>\n",
              "    <tr>\n",
              "      <td>D21</td>\n",
              "      <td>236325.2</td>\n",
              "    </tr>\n",
              "    <tr>\n",
              "      <td rowspan=\"6\" valign=\"top\">NL</td>\n",
              "      <td rowspan=\"2\" valign=\"top\">2010</td>\n",
              "      <td>B1GQ</td>\n",
              "      <td>589946.6</td>\n",
              "    </tr>\n",
              "    <tr>\n",
              "      <td>D21</td>\n",
              "      <td>60631.6</td>\n",
              "    </tr>\n",
              "    <tr>\n",
              "      <td rowspan=\"2\" valign=\"top\">2011</td>\n",
              "      <td>B1GQ</td>\n",
              "      <td>599097.8</td>\n",
              "    </tr>\n",
              "    <tr>\n",
              "      <td>D21</td>\n",
              "      <td>59852.5</td>\n",
              "    </tr>\n",
              "    <tr>\n",
              "      <td rowspan=\"2\" valign=\"top\">2012</td>\n",
              "      <td>B1GQ</td>\n",
              "      <td>592925.0</td>\n",
              "    </tr>\n",
              "    <tr>\n",
              "      <td>D21</td>\n",
              "      <td>57924.1</td>\n",
              "    </tr>\n",
              "  </tbody>\n",
              "</table>\n",
              "</div>"
            ],
            "text/plain": [
              "                                 value\n",
              "unit       geo time na_item           \n",
              "CLV05_MEUR DE  2010 B1GQ     2426650.8\n",
              "                    D21       228297.9\n",
              "               2011 B1GQ     2521875.8\n",
              "                    D21       237275.9\n",
              "               2012 B1GQ     2532456.4\n",
              "                    D21       236325.2\n",
              "           NL  2010 B1GQ      589946.6\n",
              "                    D21        60631.6\n",
              "               2011 B1GQ      599097.8\n",
              "                    D21        59852.5\n",
              "               2012 B1GQ      592925.0\n",
              "                    D21        57924.1"
            ]
          },
          "execution_count": 32,
          "metadata": {},
          "output_type": "execute_result"
        }
      ],
      "source": [
        "(df\n",
        " .unstack('na_item')\n",
        " .stack('na_item')\n",
        " )"
      ]
    },
    {
      "cell_type": "markdown",
      "metadata": {
        "id": "Qb9omekBQGXB"
      },
      "source": [
        "Ok, lets:\n",
        "* Unstack `na_items` and `geo` as before\n",
        "* Drop the `unit` index (which only has one value)\n",
        "* Drop the `value` column level\n",
        "* Turn the output into a bar plot"
      ]
    },
    {
      "cell_type": "code",
      "execution_count": null,
      "metadata": {
        "id": "zHF4ojDGQGXC",
        "outputId": "f1e370f1-d14a-4bf4-f9cf-8e9234b4f746"
      },
      "outputs": [
        {
          "data": {
            "text/plain": [
              "<matplotlib.axes._subplots.AxesSubplot at 0x7f3401ec09b0>"
            ]
          },
          "execution_count": 41,
          "metadata": {},
          "output_type": "execute_result"
        },
        {
          "data": {
            "image/png": "[encoded data removed]",
            "text/plain": [
              "<Figure size 432x288 with 1 Axes>"
            ]
          },
          "metadata": {
            "needs_background": "light"
          },
          "output_type": "display_data"
        }
      ],
      "source": [
        "(df\n",
        " .unstack(['na_item', 'geo'])  # unstacks indices (makes our dataset wider)\n",
        " .droplevel('unit', axis=0)  # Everything is in the same unit so we drop it\n",
        " .droplevel(0, axis=1)  # OR: ['value']\n",
        " .plot(kind='bar')  # Make a bar plot\n",
        " )"
      ]
    },
    {
      "cell_type": "markdown",
      "metadata": {
        "id": "kibjOHENQGXC"
      },
      "source": [
        "We can also chain our commands together rather than storing the intermediate values.\n",
        "This makes it easier to read the flow of operations but removes the ability to inspect intermediate results."
      ]
    },
    {
      "cell_type": "code",
      "execution_count": null,
      "metadata": {
        "id": "k08jaFX4QGXC"
      },
      "outputs": [],
      "source": [
        "# Look at the documentation for the plot function below and see what types of plot you can make\n",
        "pd.DataFrame.plot?"
      ]
    },
    {
      "cell_type": "markdown",
      "metadata": {
        "id": "TBcwNmY8QGXC"
      },
      "source": [
        "### Real-world considerations for Requests\n",
        "\n",
        "Things do not always go so nicely, particularly when using API's at scale.\n",
        "\n",
        "We'll quickly cover some other common considerations when using API's, and outline how they can be solved.\n",
        "\n",
        "#### Retries\n",
        "\n",
        "Sometimes you can do everything perfectly, and send off a request but something on the web-server (or elsewhere) can go wrong and give a bad status code.\n",
        "We don't want to silently ignore these errors or let them crash our program by raising an exception.\n",
        "\n",
        "The first port of call is to retry the request again.\n",
        "\n",
        "---\n",
        "\n",
        "A hacky way to do this would be (**don't do this**):\n",
        "\n",
        "``` python\n",
        "import time\n",
        "import requests\n",
        "\n",
        "def get(url):\n",
        "    try:\n",
        "        r = requests.get(url)\n",
        "        r.raise_for_status()  # raise an error on a bad status\n",
        "    except:\n",
        "        time.sleep(1)  # sleep for a bit in case that helps\n",
        "        return get(url)  # try again\n",
        "```\n",
        "\n",
        "---\n",
        "\n",
        "A better and easier way to do this is to use the [tenacity](https://github.com/jd/tenacity) library:\n",
        "\n",
        "``` python\n",
        "import requests\n",
        "from tenacity import (retry, stop_after_attempt, wait_fixed,\n",
        "                      retry_if_exception_type)\n",
        "\n",
        "@retry(stop=stop_after_attempt(3), wait=wait_fixed(0.1),\n",
        "      retry=retry_if_exception_type(requests.HTTPError))\n",
        "def get(url):\n",
        "    try:\n",
        "        r = requests.get(url)\n",
        "        r.raise_for_status()  # raise an error on a bad status\n",
        "        return r\n",
        "    except requests.HTTPError:\n",
        "        print(r.status_code, r.reason)\n",
        "        raise\n",
        "```\n",
        "\n",
        "It uses a python decorator (the `@` symbol) to wrap our function with another function `retry` that will retry if we raise an error.\n",
        "\n",
        "We can tell it how many times to stop trying after, how long to wait between each retry, what error to retry on etc.\n",
        "\n",
        "#### Authentication\n",
        "\n",
        "Not all API's are open for immediate use. For example, some require you pay for access (e.g. the google maps API) and some require you to register for access first.\n",
        "\n",
        "When you get access to a \"closed\" API, you will typically get an API key - a long string of letters and numbers - which is unique to you which you need to send along with any GET request you make to the API.\n",
        "This lets the API know who you are and decide how to deal with your request.\n",
        "\n",
        "Several different types of authentication exists (read the specific API docs) but the most common way is:\n",
        "``` python\n",
        "api_key = 'asodifhafglkkhj'\n",
        "r = requests.get(url, auth=(api_key, ''))\n",
        "```\n",
        "\n",
        "#### Rate limits\n",
        "\n",
        "API's can be costly to host and typically limit the number of requests that can be made (either by an IP or API key).\n",
        "If you exceed this limit you'll get a `429` status code for any extra requests you make (and may be blocked if you continue making them).\n",
        "\n",
        "It is important to therefore respect any rate limits given in an API's documentation (annoyingly some are very vague).\n",
        "The simplest way to do this is to limit how often the number of times our function that makes the request can be called within some time limit using the [ratelim](https://pypi.org/project/ratelim/) library - again using decorators."
      ]
    },
    {
      "cell_type": "code",
      "execution_count": null,
      "metadata": {
        "id": "I6Ol16dTQGXD",
        "outputId": "082ceb87-3742-4b1c-d46c-ddf4e9d2adba"
      },
      "outputs": [
        {
          "name": "stdout",
          "output_type": "stream",
          "text": [
            "0 hello\n",
            "1 hello\n",
            "2 hello\n",
            "3 hello\n",
            "4 hello\n",
            "5 hello\n",
            "6 hello\n",
            "7 hello\n",
            "8 hello\n",
            "9 hello\n",
            "Took 0.001 seconds\n"
          ]
        }
      ],
      "source": [
        "import ratelim\n",
        "import time\n",
        "\n",
        "# 10 times in 5 seconds as fast as possible\n",
        "@ratelim.greedy(10, 5)\n",
        "def hello_greedy(i):\n",
        "    print(i, \"hello\")\n",
        "\n",
        "# Fast\n",
        "t0 = time.time()\n",
        "for i in range(10):\n",
        "    hello_greedy(i)\n",
        "print(f\"Took {(time.time() - t0):.3f} seconds\")"
      ]
    },
    {
      "cell_type": "code",
      "execution_count": null,
      "metadata": {
        "id": "-CBno5BYQGXD",
        "outputId": "0de3f670-5aad-456f-ca10-74e6d033abd7"
      },
      "outputs": [
        {
          "name": "stdout",
          "output_type": "stream",
          "text": [
            "0 hello\n",
            "1 hello\n",
            "2 hello\n",
            "3 hello\n",
            "4 hello\n",
            "5 hello\n",
            "6 hello\n",
            "7 hello\n",
            "8 hello\n",
            "9 hello\n",
            "10 hello\n",
            "Took 5.007 seconds\n"
          ]
        }
      ],
      "source": [
        "# 10 times in 5 seconds as fast as possible\n",
        "@ratelim.greedy(10, 5)\n",
        "def hello_greedy(i):\n",
        "    print(i, \"hello\")\n",
        "\n",
        "# Takes ~5 seconds because we hit the rate limit\n",
        "t0 = time.time()\n",
        "for i in range(11):\n",
        "    hello_greedy(i)\n",
        "print(f\"Took {(time.time() - t0):.3f} seconds\")"
      ]
    },
    {
      "cell_type": "code",
      "execution_count": null,
      "metadata": {
        "id": "XkMWdRTSQGXD",
        "outputId": "58f782da-441c-4163-964a-941d7f5cbbde"
      },
      "outputs": [
        {
          "name": "stdout",
          "output_type": "stream",
          "text": [
            "0 hello\n",
            "1 hello\n",
            "2 hello\n",
            "3 hello\n",
            "4 hello\n",
            "5 hello\n",
            "6 hello\n",
            "7 hello\n",
            "8 hello\n",
            "9 hello\n",
            "Took 4.515 seconds\n"
          ]
        }
      ],
      "source": [
        "# 10 times in 5 seconds\n",
        "# Gets called at most every 0.5 seconds\n",
        "@ratelim.patient(10, 5)\n",
        "def hello_patient(i):\n",
        "    print(i, \"hello\")\n",
        "\n",
        "# Takes ~4.5s\n",
        "t0 = time.time()\n",
        "for i in range(10):\n",
        "    hello_patient(i)\n",
        "print(f\"Took {(time.time() - t0):.3f} seconds\")"
      ]
    },
    {
      "cell_type": "markdown",
      "metadata": {
        "id": "vjtydk4lQGXD"
      },
      "source": [
        "Using `ratelim.patient` is kinder to the API you are using as you lower the risk of overwhelming the API and getting a batch of responses with bad statuses."
      ]
    },
    {
      "cell_type": "markdown",
      "metadata": {
        "id": "8xaucl3OQGXD"
      },
      "source": [
        "## Exercise\n",
        "\n",
        "**Task**\n",
        "\n",
        "* Get the data for dataset `rd_e_berdindr2` from the Eurostat API for all NACE activities as a percentage of GDP\n",
        "* Read the data into a pandas dataframe\n",
        "* Calculate the total expenditure across countries each year\n",
        "* Plot it\n",
        "\n",
        "---\n",
        "**Links**\n",
        "\n",
        "* [Query builder](https://ec.europa.eu/eurostat/web/json-and-unicode-web-services/getting-started/query-builder)\n",
        "* [Data Explorer](https://appsso.eurostat.ec.europa.eu/nui/show.do?dataset=rd_e_berdindr2&lang=en)\n",
        "* [Metadata](https://ec.europa.eu/eurostat/cache/metadata/en/rd_esms.htm)\n",
        "\n",
        "---\n",
        "**Hint**\n",
        "If you look at the data-explorer/metadata/response you will see that there won't be a `payload['value']` for every possible index - there is missing data.\n",
        "To deal with this we can create a quick workaround by using a `defaultdict` from the `collections` library.\n",
        "A default dict takes a function and a dictionary as arguements. When a value is looked up in the dictionary that isn't found it calls and returns the function passed to `defaultdict`.\n",
        "\n",
        "Below we create a `defaultdict` that returns `None` for indexes that aren't there and builds a new dictionary that fills in the missing data:\n",
        "\n",
        "``` python\n",
        "from collections import defaultdict\n",
        "n = len(index)  # Length of our index\n",
        "def return_none():\n",
        "    return None\n",
        "d = defaultdict(return_none, payload['value'])  # Build default dict\n",
        "values = [\n",
        "    d[str(i)]  # Lookup `i` in dictionary\n",
        "    for i in range(n)  # Numberical indexes\n",
        "]\n",
        "```\n",
        "NOTE: We use `str(i)` because the keys of the dictionaries are strings not integers so we need to convert\n",
        "\n",
        "---\n",
        "**EXTENSION**\n",
        "\n",
        "Pick another dataset from Eurostat, fetch it and use a [`merge`](https://pandas.pydata.org/pandas-docs/stable/reference/api/pandas.DataFrame.merge.html) operation to join the two datasets together.\n",
        "\n",
        "\n",
        "---\n",
        "\n",
        "[Solution (don't peek until you've tried)](https://github.com/nestauk/im-tutorials/blob/3-ysi-tutorial/notebooks/APIs/API_exercise_solution.ipynb)"
      ]
    },
    {
      "cell_type": "code",
      "execution_count": null,
      "metadata": {
        "id": "tU7RxFZEQGXD"
      },
      "outputs": [],
      "source": [
        "## Template\n",
        "\n",
        "# Make the request\n",
        "import requests\n",
        "\n",
        "url = ...\n",
        "\n",
        "response = requests.get(url)\n",
        "response.raise_for_status()  # Gives an error if not successful\n",
        "\n",
        "# Parse into JSON\n",
        "payload = ...\n",
        "\n",
        "# Define the index from `payload['dimension']`\n",
        "index = ...\n",
        "\n",
        "# Get data values\n",
        "values = ...\n",
        "\n",
        "# Read into dataframe, manipulate and plot\n",
        "(pd.DataFrame(values, index=index)\n",
        "    # Make dataframe wider (~1 line(s))\n",
        "    # Get totals (1 line)\n",
        "    # Plot (1 line)\n",
        ")"
      ]
    },
    {
      "cell_type": "markdown",
      "metadata": {
        "id": "LzM-QAZEQGXE"
      },
      "source": [
        "## Resources"
      ]
    },
    {
      "cell_type": "markdown",
      "metadata": {
        "id": "gZajWSocQGXE"
      },
      "source": [
        "### Assorted API snippets"
      ]
    },
    {
      "cell_type": "code",
      "execution_count": null,
      "metadata": {
        "id": "wBHR1raJQGXE"
      },
      "outputs": [],
      "source": [
        "## COMPANIES HOUSE (UK registrar of companies)\n",
        "# Register for an api key here: https://developer.companieshouse.gov.uk/developer/signin\n",
        "\n",
        "api_key = 'put your api key here'\n",
        "url = 'https://api.companieshouse.gov.uk/search?q=consultio consultius'\n",
        "r = requests.get(url, auth=(api_key, ''))\n",
        "r.raise_for_status()\n",
        "\n",
        "r.json()['items'][0]  # get the first item"
      ]
    },
    {
      "cell_type": "raw",
      "metadata": {
        "id": "h1meTl12QGXE"
      },
      "source": [
        "# Example output\n",
        "{'title': 'CONSULTIO CONSULTIUS CONSULTING  LIMITED',\n",
        " 'snippet': '',\n",
        " 'address': {'country': 'United Kingdom',\n",
        "  'region': 'Uk',\n",
        "  'address_line_1': 'Gibbons Close',\n",
        "  'postal_code': 'GU47 9BB',\n",
        "  'address_line_2': 'Sandhurst',\n",
        "  'premises': '3 ',\n",
        "  'locality': 'Berkshire'},\n",
        " 'date_of_cessation': '2016-11-22',\n",
        " 'date_of_creation': '2016-03-29',\n",
        " 'kind': 'searchresults#company',\n",
        " 'matches': {'title': [1, 9, 11, 20], 'snippet': []},\n",
        " 'description': '10088276 - Dissolved on 22 November 2016',\n",
        " 'company_type': 'ltd',\n",
        " 'description_identifier': ['dissolved-on'],\n",
        " 'company_number': '10088276',\n",
        " 'company_status': 'dissolved',\n",
        " 'links': {'self': '/company/10088276'},\n",
        " 'address_snippet': '3  Gibbons Close, Sandhurst, Berkshire, Uk, United Kingdom, GU47 9BB'}"
      ]
    },
    {
      "cell_type": "code",
      "execution_count": null,
      "metadata": {
        "id": "BU04vQW9QGXE",
        "outputId": "ffe89cec-30da-42f5-8e5e-a64aac25c3d4"
      },
      "outputs": [
        {
          "data": {
            "text/plain": [
              "['r/learnpython',\n",
              " 'r/Python',\n",
              " 'r/learnprogramming',\n",
              " 'r/programming',\n",
              " 'r/FreeEBOOKS']"
            ]
          },
          "execution_count": 38,
          "metadata": {},
          "output_type": "execute_result"
        }
      ],
      "source": [
        "## REDDIT - https://www.reddit.com/dev/api/#GET_subreddits_search\n",
        "# Let's find some subreddits to learn python with!\n",
        "# https://www.reddit.com/dev/api/#GET_subreddits_search\n",
        "\n",
        "url = 'https://www.reddit.com/subreddits/search.json?q=\"learn python\"&limit=5'\n",
        "r = requests.get(url, headers={'User-agent': 'your bot 0.1'})\n",
        "r.raise_for_status()\n",
        "\n",
        "[result['data']['display_name_prefixed']\n",
        " for result in r.json()['data']['children']]"
      ]
    },
    {
      "cell_type": "markdown",
      "metadata": {
        "id": "Vd6OuC2vQGXE"
      },
      "source": [
        "### List of API's\n",
        "\n",
        "Massive list [**here**](https://github.com/public-apis/public-apis)\n"
      ]
    },
    {
      "cell_type": "markdown",
      "metadata": {
        "id": "too1Oy_yQGXF"
      },
      "source": [
        "### API wrapper libraries\n",
        "\n",
        "Massive list [**here**](https://github.com/realpython/list-of-python-api-wrappers).\n",
        "\n",
        "For example, geo-code location data with [`geopy`](https://github.com/geopy/geopy) :"
      ]
    },
    {
      "cell_type": "code",
      "execution_count": null,
      "metadata": {
        "id": "q6K9sIGfQGXF",
        "outputId": "1407cd90-fbf4-4861-f030-b3796f96fd00"
      },
      "outputs": [
        {
          "name": "stdout",
          "output_type": "stream",
          "text": [
            "Jazzmans, 4, Leuvenlaan, Utrecht, Nederland, 3584CE, Nederland\n",
            "Jazzmans, 4, Leuvenlaan, Utrecht, Nederland, 3584CE, Nederland\n"
          ]
        }
      ],
      "source": [
        "from geopy.geocoders import Nominatim\n",
        "geolocator = Nominatim(user_agent=\"ysi_tutorial\")\n",
        "\n",
        "print(geolocator.geocode(\"Leuvenlaan 4\"))  # From address\n",
        "print(geolocator.reverse(\"52.086779,5.1674726\"))  # From co-ordinates"
      ]
    },
    {
      "cell_type": "markdown",
      "metadata": {
        "id": "KXqMM-eRQGXF"
      },
      "source": [
        "### More detailed tutorials\n",
        "\n",
        "* Python - https://www.reddit.com/r/learnpython/wiki/index\n",
        "\n",
        "  This wiki gives a lot of different resources for people both new to programming, or just new to python.\n",
        "* Pandas - https://pandas.pydata.org/pandas-docs/stable/getting_started/tutorials.html\n",
        "    \n",
        "* Requests/API's\n",
        "    * https://realpython.com/python-requests/\n",
        "    * https://www.dataquest.io/blog/python-api-tutorial/"
      ]
    }
  ],
  "metadata": {
    "colab": {
      "provenance": []
    },
    "hide_input": false,
    "kernelspec": {
      "display_name": "Python 3",
      "name": "python3"
    },
    "language_info": {
      "codemirror_mode": {
        "name": "ipython",
        "version": 3
      },
      "file_extension": ".py",
      "mimetype": "text/x-python",
      "name": "python",
      "nbconvert_exporter": "python",
      "pygments_lexer": "ipython3",
      "version": "3.11.1"
    },
    "toc": {
      "base_numbering": 1,
      "nav_menu": {},
      "number_sections": true,
      "sideBar": true,
      "skip_h1_title": false,
      "title_cell": "Table of Contents",
      "title_sidebar": "Contents",
      "toc_cell": false,
      "toc_position": {},
      "toc_section_display": true,
      "toc_window_display": false
    },
    "varInspector": {
      "cols": {
        "lenName": 16,
        "lenType": 16,
        "lenVar": 40
      },
      "kernels_config": {
        "python": {
          "delete_cmd_postfix": "",
          "delete_cmd_prefix": "del ",
          "library": "var_list.py",
          "varRefreshCmd": "print(var_dic_list())"
        },
        "r": {
          "delete_cmd_postfix": ") ",
          "delete_cmd_prefix": "rm(",
          "library": "var_list.r",
          "varRefreshCmd": "cat(var_dic_list()) "
        }
      },
      "types_to_exclude": [
        "module",
        "function",
        "builtin_function_or_method",
        "instance",
        "_Feature"
      ],
      "window_display": false
    }
  },
  "nbformat": 4,
  "nbformat_minor": 0
}
